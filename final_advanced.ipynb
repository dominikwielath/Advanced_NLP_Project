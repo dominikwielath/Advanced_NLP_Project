{
  "cells": [
    {
      "cell_type": "markdown",
      "source": [
        "# Advanced Methods in Natural Language Processing - Final Project\n",
        "## Predicting Movie Genres from Movie Descriptions\n",
        "### Nikita Baklazhenko, Miguel Conner, David Vallmanya, Dominik Wielath\n",
        "\n",
        "For our final project, we analyzed a data set of movie descriptions from the Internet Movie Database (IMDb) posted on Kaggle. The data set contains, besides the movie description also, its title, the year it was published, and its genre. Our project aims to predict the genre of a movie based on its description. In particular, we compare different methods regarding their predictive power, strengths, and limitations. \n",
        "\n"
      ],
      "metadata": {
        "id": "krO312L4w82_"
      },
      "id": "krO312L4w82_"
    },
    {
      "cell_type": "code",
      "execution_count": 1,
      "id": "db6e9a56",
      "metadata": {
        "colab": {
          "base_uri": "https://localhost:8080/"
        },
        "id": "db6e9a56",
        "outputId": "b3bc4ed2-f669-4268-a2a5-cb09ebad902f"
      },
      "outputs": [
        {
          "output_type": "stream",
          "name": "stderr",
          "text": [
            "[nltk_data] Downloading package stopwords to /root/nltk_data...\n",
            "[nltk_data]   Package stopwords is already up-to-date!\n",
            "[nltk_data] Downloading package wordnet to /root/nltk_data...\n",
            "[nltk_data]   Package wordnet is already up-to-date!\n",
            "[nltk_data] Downloading package stopwords to /root/nltk_data...\n",
            "[nltk_data]   Package stopwords is already up-to-date!\n"
          ]
        }
      ],
      "source": [
        "import os\n",
        "import pandas as pd\n",
        "import matplotlib.pyplot as plt\n",
        "import numpy as np\n",
        "import seaborn as sns\n",
        "import torch\n",
        "import re \n",
        "\n",
        "from collections import Counter\n",
        "\n",
        "# Natural language Toolkit\n",
        "import nltk\n",
        "nltk.download('stopwords')\n",
        "nltk.download('wordnet')\n",
        "\n",
        "from nltk.stem import SnowballStemmer                                   # Porter's II Stemmer\n",
        "from nltk import word_tokenize                                          # Document tokenizer\n",
        "from nltk.corpus import stopwords \n",
        "from nltk.stem.wordnet import WordNetLemmatizer\n",
        "\n",
        "from sklearn.metrics import f1_score, recall_score\n",
        "from sklearn.feature_extraction.text import TfidfVectorizer\n",
        "\n",
        "import tensorflow as tf\n",
        "from tensorflow.keras.layers import GRU, Dense, Embedding, Dropout, Bidirectional\n",
        "from tensorflow.keras.models import Sequential\n",
        "from tensorflow.keras.preprocessing.text import Tokenizer\n",
        "from tensorflow.keras.preprocessing.sequence import pad_sequences\n",
        "\n",
        "from helper_functions import *"
      ]
    },
    {
      "cell_type": "markdown",
      "id": "df6a3626",
      "metadata": {
        "id": "df6a3626"
      },
      "source": [
        "# Load Data"
      ]
    },
    {
      "cell_type": "code",
      "execution_count": 2,
      "id": "BSauhdxYujWv",
      "metadata": {
        "id": "BSauhdxYujWv"
      },
      "outputs": [],
      "source": [
        "# Set directory\n",
        "directory_david = '/run/media/david-vp/davidvp-files/DSMMaster/advanced-nlp/final-proj/Genre Classification Dataset/'\n",
        "directory_david2 = '/run/media/davovapo/hdd1-dvp/DSMMaster/advanced-nlp/Advanced_NLP_Project/Genre Classification Dataset/'\n",
        "directory_miguel ='/Users/Miguel/Desktop/BSE/Term2/Advanced NLP/Advanced_NLP_Project/Genre Classification Dataset/'\n",
        "directory_dominik = ''\n",
        "\n",
        "directory = directory_dominik"
      ]
    },
    {
      "cell_type": "code",
      "execution_count": 3,
      "id": "wsFOzwD0u2cp",
      "metadata": {
        "colab": {
          "base_uri": "https://localhost:8080/",
          "height": 263
        },
        "id": "wsFOzwD0u2cp",
        "outputId": "8159470f-8b62-47ed-9d77-a5e64fab58a4"
      },
      "outputs": [
        {
          "output_type": "stream",
          "name": "stderr",
          "text": [
            "<ipython-input-3-2833bd79dfe9>:4: ParserWarning: Falling back to the 'python' engine because the 'c' engine does not support regex separators (separators > 1 char and different from '\\s+' are interpreted as regex); you can avoid this warning by specifying engine='python'.\n",
            "  df_train = pd.read_csv(os.path.join(directory, filename), delimiter=\":::\", encoding='utf-8', header=None)\n"
          ]
        },
        {
          "output_type": "execute_result",
          "data": {
            "text/plain": [
              "                                title     genre  \\\n",
              "0       Oscar et la dame rose (2009)      drama   \n",
              "1                       Cupid (1997)   thriller   \n",
              "2   Young, Wild and Wonderful (1980)      adult   \n",
              "3              The Secret Sin (1915)      drama   \n",
              "4             The Unrecovered (2007)      drama   \n",
              "\n",
              "                                         description  \n",
              "0   Listening in to a conversation between his do...  \n",
              "1   A brother and sister with a past incestuous r...  \n",
              "2   As the bus empties the students for their fie...  \n",
              "3   To help their unemployed father make ends mee...  \n",
              "4   The film's title refers not only to the un-re...  "
            ],
            "text/html": [
              "\n",
              "  <div id=\"df-6f06fe27-c596-439c-af74-28b1aefed51d\">\n",
              "    <div class=\"colab-df-container\">\n",
              "      <div>\n",
              "<style scoped>\n",
              "    .dataframe tbody tr th:only-of-type {\n",
              "        vertical-align: middle;\n",
              "    }\n",
              "\n",
              "    .dataframe tbody tr th {\n",
              "        vertical-align: top;\n",
              "    }\n",
              "\n",
              "    .dataframe thead th {\n",
              "        text-align: right;\n",
              "    }\n",
              "</style>\n",
              "<table border=\"1\" class=\"dataframe\">\n",
              "  <thead>\n",
              "    <tr style=\"text-align: right;\">\n",
              "      <th></th>\n",
              "      <th>title</th>\n",
              "      <th>genre</th>\n",
              "      <th>description</th>\n",
              "    </tr>\n",
              "  </thead>\n",
              "  <tbody>\n",
              "    <tr>\n",
              "      <th>0</th>\n",
              "      <td>Oscar et la dame rose (2009)</td>\n",
              "      <td>drama</td>\n",
              "      <td>Listening in to a conversation between his do...</td>\n",
              "    </tr>\n",
              "    <tr>\n",
              "      <th>1</th>\n",
              "      <td>Cupid (1997)</td>\n",
              "      <td>thriller</td>\n",
              "      <td>A brother and sister with a past incestuous r...</td>\n",
              "    </tr>\n",
              "    <tr>\n",
              "      <th>2</th>\n",
              "      <td>Young, Wild and Wonderful (1980)</td>\n",
              "      <td>adult</td>\n",
              "      <td>As the bus empties the students for their fie...</td>\n",
              "    </tr>\n",
              "    <tr>\n",
              "      <th>3</th>\n",
              "      <td>The Secret Sin (1915)</td>\n",
              "      <td>drama</td>\n",
              "      <td>To help their unemployed father make ends mee...</td>\n",
              "    </tr>\n",
              "    <tr>\n",
              "      <th>4</th>\n",
              "      <td>The Unrecovered (2007)</td>\n",
              "      <td>drama</td>\n",
              "      <td>The film's title refers not only to the un-re...</td>\n",
              "    </tr>\n",
              "  </tbody>\n",
              "</table>\n",
              "</div>\n",
              "      <button class=\"colab-df-convert\" onclick=\"convertToInteractive('df-6f06fe27-c596-439c-af74-28b1aefed51d')\"\n",
              "              title=\"Convert this dataframe to an interactive table.\"\n",
              "              style=\"display:none;\">\n",
              "        \n",
              "  <svg xmlns=\"http://www.w3.org/2000/svg\" height=\"24px\"viewBox=\"0 0 24 24\"\n",
              "       width=\"24px\">\n",
              "    <path d=\"M0 0h24v24H0V0z\" fill=\"none\"/>\n",
              "    <path d=\"M18.56 5.44l.94 2.06.94-2.06 2.06-.94-2.06-.94-.94-2.06-.94 2.06-2.06.94zm-11 1L8.5 8.5l.94-2.06 2.06-.94-2.06-.94L8.5 2.5l-.94 2.06-2.06.94zm10 10l.94 2.06.94-2.06 2.06-.94-2.06-.94-.94-2.06-.94 2.06-2.06.94z\"/><path d=\"M17.41 7.96l-1.37-1.37c-.4-.4-.92-.59-1.43-.59-.52 0-1.04.2-1.43.59L10.3 9.45l-7.72 7.72c-.78.78-.78 2.05 0 2.83L4 21.41c.39.39.9.59 1.41.59.51 0 1.02-.2 1.41-.59l7.78-7.78 2.81-2.81c.8-.78.8-2.07 0-2.86zM5.41 20L4 18.59l7.72-7.72 1.47 1.35L5.41 20z\"/>\n",
              "  </svg>\n",
              "      </button>\n",
              "      \n",
              "  <style>\n",
              "    .colab-df-container {\n",
              "      display:flex;\n",
              "      flex-wrap:wrap;\n",
              "      gap: 12px;\n",
              "    }\n",
              "\n",
              "    .colab-df-convert {\n",
              "      background-color: #E8F0FE;\n",
              "      border: none;\n",
              "      border-radius: 50%;\n",
              "      cursor: pointer;\n",
              "      display: none;\n",
              "      fill: #1967D2;\n",
              "      height: 32px;\n",
              "      padding: 0 0 0 0;\n",
              "      width: 32px;\n",
              "    }\n",
              "\n",
              "    .colab-df-convert:hover {\n",
              "      background-color: #E2EBFA;\n",
              "      box-shadow: 0px 1px 2px rgba(60, 64, 67, 0.3), 0px 1px 3px 1px rgba(60, 64, 67, 0.15);\n",
              "      fill: #174EA6;\n",
              "    }\n",
              "\n",
              "    [theme=dark] .colab-df-convert {\n",
              "      background-color: #3B4455;\n",
              "      fill: #D2E3FC;\n",
              "    }\n",
              "\n",
              "    [theme=dark] .colab-df-convert:hover {\n",
              "      background-color: #434B5C;\n",
              "      box-shadow: 0px 1px 3px 1px rgba(0, 0, 0, 0.15);\n",
              "      filter: drop-shadow(0px 1px 2px rgba(0, 0, 0, 0.3));\n",
              "      fill: #FFFFFF;\n",
              "    }\n",
              "  </style>\n",
              "\n",
              "      <script>\n",
              "        const buttonEl =\n",
              "          document.querySelector('#df-6f06fe27-c596-439c-af74-28b1aefed51d button.colab-df-convert');\n",
              "        buttonEl.style.display =\n",
              "          google.colab.kernel.accessAllowed ? 'block' : 'none';\n",
              "\n",
              "        async function convertToInteractive(key) {\n",
              "          const element = document.querySelector('#df-6f06fe27-c596-439c-af74-28b1aefed51d');\n",
              "          const dataTable =\n",
              "            await google.colab.kernel.invokeFunction('convertToInteractive',\n",
              "                                                     [key], {});\n",
              "          if (!dataTable) return;\n",
              "\n",
              "          const docLinkHtml = 'Like what you see? Visit the ' +\n",
              "            '<a target=\"_blank\" href=https://colab.research.google.com/notebooks/data_table.ipynb>data table notebook</a>'\n",
              "            + ' to learn more about interactive tables.';\n",
              "          element.innerHTML = '';\n",
              "          dataTable['output_type'] = 'display_data';\n",
              "          await google.colab.output.renderOutput(dataTable, element);\n",
              "          const docLink = document.createElement('div');\n",
              "          docLink.innerHTML = docLinkHtml;\n",
              "          element.appendChild(docLink);\n",
              "        }\n",
              "      </script>\n",
              "    </div>\n",
              "  </div>\n",
              "  "
            ]
          },
          "metadata": {},
          "execution_count": 3
        }
      ],
      "source": [
        "# Load training data set\n",
        "filename =\"train_data.txt\"\n",
        "\n",
        "df_train = pd.read_csv(os.path.join(directory, filename), delimiter=\":::\", encoding='utf-8', header=None)\n",
        "\n",
        "df_train.drop(columns=df_train.columns[0], axis=1, inplace=True)\n",
        "df_train.columns =['title', 'genre', 'description']\n",
        "df_train['genre']=df_train['genre'].apply(lambda x: x.strip())\n",
        "\n",
        "df_train.head()"
      ]
    },
    {
      "cell_type": "code",
      "execution_count": 4,
      "id": "d8c33524",
      "metadata": {
        "colab": {
          "base_uri": "https://localhost:8080/",
          "height": 263
        },
        "id": "d8c33524",
        "outputId": "2f648df5-f5f7-47be-880a-692d3518a276"
      },
      "outputs": [
        {
          "output_type": "stream",
          "name": "stderr",
          "text": [
            "<ipython-input-4-16282b81ed68>:3: ParserWarning: Falling back to the 'python' engine because the 'c' engine does not support regex separators (separators > 1 char and different from '\\s+' are interpreted as regex); you can avoid this warning by specifying engine='python'.\n",
            "  df_test = pd.read_csv(os.path.join(directory, filename), delimiter=\":::\", encoding='utf-8', header=None)\n"
          ]
        },
        {
          "output_type": "execute_result",
          "data": {
            "text/plain": [
              "                           title        genre  \\\n",
              "0          Edgar's Lunch (1998)      thriller   \n",
              "1      La guerra de papá (1977)        comedy   \n",
              "2   Off the Beaten Track (2010)   documentary   \n",
              "3        Meu Amigo Hindu (2015)         drama   \n",
              "4             Er nu zhai (1955)         drama   \n",
              "\n",
              "                                         description  \n",
              "0   L.R. Brane loves his life - his car, his apar...  \n",
              "1   Spain, March 1964: Quico is a very naughty ch...  \n",
              "2   One year in the life of Albin and his family ...  \n",
              "3   His father has died, he hasn't spoken with hi...  \n",
              "4   Before he was known internationally as a mart...  "
            ],
            "text/html": [
              "\n",
              "  <div id=\"df-04dedecb-c591-4e5a-b3b1-f0a8285270da\">\n",
              "    <div class=\"colab-df-container\">\n",
              "      <div>\n",
              "<style scoped>\n",
              "    .dataframe tbody tr th:only-of-type {\n",
              "        vertical-align: middle;\n",
              "    }\n",
              "\n",
              "    .dataframe tbody tr th {\n",
              "        vertical-align: top;\n",
              "    }\n",
              "\n",
              "    .dataframe thead th {\n",
              "        text-align: right;\n",
              "    }\n",
              "</style>\n",
              "<table border=\"1\" class=\"dataframe\">\n",
              "  <thead>\n",
              "    <tr style=\"text-align: right;\">\n",
              "      <th></th>\n",
              "      <th>title</th>\n",
              "      <th>genre</th>\n",
              "      <th>description</th>\n",
              "    </tr>\n",
              "  </thead>\n",
              "  <tbody>\n",
              "    <tr>\n",
              "      <th>0</th>\n",
              "      <td>Edgar's Lunch (1998)</td>\n",
              "      <td>thriller</td>\n",
              "      <td>L.R. Brane loves his life - his car, his apar...</td>\n",
              "    </tr>\n",
              "    <tr>\n",
              "      <th>1</th>\n",
              "      <td>La guerra de papá (1977)</td>\n",
              "      <td>comedy</td>\n",
              "      <td>Spain, March 1964: Quico is a very naughty ch...</td>\n",
              "    </tr>\n",
              "    <tr>\n",
              "      <th>2</th>\n",
              "      <td>Off the Beaten Track (2010)</td>\n",
              "      <td>documentary</td>\n",
              "      <td>One year in the life of Albin and his family ...</td>\n",
              "    </tr>\n",
              "    <tr>\n",
              "      <th>3</th>\n",
              "      <td>Meu Amigo Hindu (2015)</td>\n",
              "      <td>drama</td>\n",
              "      <td>His father has died, he hasn't spoken with hi...</td>\n",
              "    </tr>\n",
              "    <tr>\n",
              "      <th>4</th>\n",
              "      <td>Er nu zhai (1955)</td>\n",
              "      <td>drama</td>\n",
              "      <td>Before he was known internationally as a mart...</td>\n",
              "    </tr>\n",
              "  </tbody>\n",
              "</table>\n",
              "</div>\n",
              "      <button class=\"colab-df-convert\" onclick=\"convertToInteractive('df-04dedecb-c591-4e5a-b3b1-f0a8285270da')\"\n",
              "              title=\"Convert this dataframe to an interactive table.\"\n",
              "              style=\"display:none;\">\n",
              "        \n",
              "  <svg xmlns=\"http://www.w3.org/2000/svg\" height=\"24px\"viewBox=\"0 0 24 24\"\n",
              "       width=\"24px\">\n",
              "    <path d=\"M0 0h24v24H0V0z\" fill=\"none\"/>\n",
              "    <path d=\"M18.56 5.44l.94 2.06.94-2.06 2.06-.94-2.06-.94-.94-2.06-.94 2.06-2.06.94zm-11 1L8.5 8.5l.94-2.06 2.06-.94-2.06-.94L8.5 2.5l-.94 2.06-2.06.94zm10 10l.94 2.06.94-2.06 2.06-.94-2.06-.94-.94-2.06-.94 2.06-2.06.94z\"/><path d=\"M17.41 7.96l-1.37-1.37c-.4-.4-.92-.59-1.43-.59-.52 0-1.04.2-1.43.59L10.3 9.45l-7.72 7.72c-.78.78-.78 2.05 0 2.83L4 21.41c.39.39.9.59 1.41.59.51 0 1.02-.2 1.41-.59l7.78-7.78 2.81-2.81c.8-.78.8-2.07 0-2.86zM5.41 20L4 18.59l7.72-7.72 1.47 1.35L5.41 20z\"/>\n",
              "  </svg>\n",
              "      </button>\n",
              "      \n",
              "  <style>\n",
              "    .colab-df-container {\n",
              "      display:flex;\n",
              "      flex-wrap:wrap;\n",
              "      gap: 12px;\n",
              "    }\n",
              "\n",
              "    .colab-df-convert {\n",
              "      background-color: #E8F0FE;\n",
              "      border: none;\n",
              "      border-radius: 50%;\n",
              "      cursor: pointer;\n",
              "      display: none;\n",
              "      fill: #1967D2;\n",
              "      height: 32px;\n",
              "      padding: 0 0 0 0;\n",
              "      width: 32px;\n",
              "    }\n",
              "\n",
              "    .colab-df-convert:hover {\n",
              "      background-color: #E2EBFA;\n",
              "      box-shadow: 0px 1px 2px rgba(60, 64, 67, 0.3), 0px 1px 3px 1px rgba(60, 64, 67, 0.15);\n",
              "      fill: #174EA6;\n",
              "    }\n",
              "\n",
              "    [theme=dark] .colab-df-convert {\n",
              "      background-color: #3B4455;\n",
              "      fill: #D2E3FC;\n",
              "    }\n",
              "\n",
              "    [theme=dark] .colab-df-convert:hover {\n",
              "      background-color: #434B5C;\n",
              "      box-shadow: 0px 1px 3px 1px rgba(0, 0, 0, 0.15);\n",
              "      filter: drop-shadow(0px 1px 2px rgba(0, 0, 0, 0.3));\n",
              "      fill: #FFFFFF;\n",
              "    }\n",
              "  </style>\n",
              "\n",
              "      <script>\n",
              "        const buttonEl =\n",
              "          document.querySelector('#df-04dedecb-c591-4e5a-b3b1-f0a8285270da button.colab-df-convert');\n",
              "        buttonEl.style.display =\n",
              "          google.colab.kernel.accessAllowed ? 'block' : 'none';\n",
              "\n",
              "        async function convertToInteractive(key) {\n",
              "          const element = document.querySelector('#df-04dedecb-c591-4e5a-b3b1-f0a8285270da');\n",
              "          const dataTable =\n",
              "            await google.colab.kernel.invokeFunction('convertToInteractive',\n",
              "                                                     [key], {});\n",
              "          if (!dataTable) return;\n",
              "\n",
              "          const docLinkHtml = 'Like what you see? Visit the ' +\n",
              "            '<a target=\"_blank\" href=https://colab.research.google.com/notebooks/data_table.ipynb>data table notebook</a>'\n",
              "            + ' to learn more about interactive tables.';\n",
              "          element.innerHTML = '';\n",
              "          dataTable['output_type'] = 'display_data';\n",
              "          await google.colab.output.renderOutput(dataTable, element);\n",
              "          const docLink = document.createElement('div');\n",
              "          docLink.innerHTML = docLinkHtml;\n",
              "          element.appendChild(docLink);\n",
              "        }\n",
              "      </script>\n",
              "    </div>\n",
              "  </div>\n",
              "  "
            ]
          },
          "metadata": {},
          "execution_count": 4
        }
      ],
      "source": [
        "# Load testing data set\n",
        "filename = \"test_data_solution.txt\"\n",
        "df_test = pd.read_csv(os.path.join(directory, filename), delimiter=\":::\", encoding='utf-8', header=None)\n",
        "\n",
        "df_test.drop(columns=df_test.columns[0], axis=1, inplace=True)\n",
        "df_test.columns =['title', 'genre', 'description']\n",
        "df_test['genre']=df_test['genre'].apply(lambda x: x.strip())\n",
        "\n",
        "df_test.head()"
      ]
    },
    {
      "cell_type": "code",
      "execution_count": 5,
      "id": "nh6iLk_5v-Hp",
      "metadata": {
        "colab": {
          "base_uri": "https://localhost:8080/",
          "height": 651
        },
        "id": "nh6iLk_5v-Hp",
        "outputId": "fbfdc084-4939-4d3e-8eef-26d91d9a1b60"
      },
      "outputs": [
        {
          "output_type": "display_data",
          "data": {
            "text/plain": [
              "<Figure size 800x600 with 1 Axes>"
            ],
            "image/png": "[encoded data removed]"
          },
          "metadata": {}
        }
      ],
      "source": [
        "# Create a bar plot of the genre counts\n",
        "sns.set_style(\"whitegrid\")\n",
        "plt.figure(figsize=(8,6))\n",
        "sns.barplot(x=df_train.genre.value_counts().index,\n",
        "            y=df_train.genre.value_counts(),\n",
        "            palette=\"muted\")\n",
        "\n",
        "# Customize the plot\n",
        "plt.title(\"Films per category\", fontsize=18)\n",
        "plt.xlabel(\"Category\", fontsize=14)\n",
        "plt.ylabel(\"Number of Films\", fontsize=14)\n",
        "plt.xticks(rotation=45, ha='right', fontsize=12)\n",
        "\n",
        "# Show the plot\n",
        "plt.show()"
      ]
    },
    {
      "cell_type": "markdown",
      "source": [
        "We can see that we have very large class imbalance. There are many movies in few categories while most categories only contain a small number of movies. As we expect our model's performance to correlate with the sample size for each category, we exclude categories with very few numbers of movies within our training set. Further, we exclude genres from which we expect that there might be larger variation in the topics discussed in the description. For example a short film could deal with topics similar to genres like horror or comedy. There is likely no clear pattern. Therefore, we also exclude these categories in our analysis. "
      ],
      "metadata": {
        "id": "-LFE6vkB4xWz"
      },
      "id": "-LFE6vkB4xWz"
    },
    {
      "cell_type": "code",
      "execution_count": 6,
      "id": "f58f5443",
      "metadata": {
        "id": "f58f5443"
      },
      "outputs": [],
      "source": [
        "# Only keep some columns\n",
        "list_labels = [\"drama\", \"comedy\", \"horror\", \"thriller\", \"action\", \"western\", \"sci-fi\"]\n",
        "\n",
        "df_train = df_train[df_train[\"genre\"].isin(list_labels)]\n",
        "df_test = df_test[df_test[\"genre\"].isin(list_labels)]"
      ]
    },
    {
      "cell_type": "code",
      "execution_count": 7,
      "id": "oLJvaBr-xIS6",
      "metadata": {
        "colab": {
          "base_uri": "https://localhost:8080/",
          "height": 620
        },
        "id": "oLJvaBr-xIS6",
        "outputId": "20a728a2-af07-4de4-db2f-5be53bf0422d"
      },
      "outputs": [
        {
          "output_type": "display_data",
          "data": {
            "text/plain": [
              "<Figure size 800x600 with 1 Axes>"
            ],
            "image/png": "[encoded data removed]"
          },
          "metadata": {}
        }
      ],
      "source": [
        "# Create a bar plot of the genre counts\n",
        "sns.set_style(\"whitegrid\")\n",
        "plt.figure(figsize=(8,6))\n",
        "sns.barplot(x=df_train.genre.value_counts().index,\n",
        "            y=df_train.genre.value_counts(),\n",
        "            palette=\"muted\")\n",
        "\n",
        "# Customize the plot\n",
        "plt.title(\"Films per category\", fontsize=18)\n",
        "plt.xlabel(\"Category\", fontsize=14)\n",
        "plt.ylabel(\"Number of Films\", fontsize=14)\n",
        "plt.xticks(rotation=45, ha='right', fontsize=12)\n",
        "\n",
        "# Show the plot\n",
        "plt.show()"
      ]
    },
    {
      "cell_type": "markdown",
      "id": "-HRXfdNLx4IP",
      "metadata": {
        "id": "-HRXfdNLx4IP"
      },
      "source": [
        "# Preprocessing"
      ]
    },
    {
      "cell_type": "markdown",
      "source": [
        "## Extract the year from the title and save it as variable in the data frame"
      ],
      "metadata": {
        "id": "t9AHVtvFYrTt"
      },
      "id": "t9AHVtvFYrTt"
    },
    {
      "cell_type": "code",
      "source": [
        "df_train[\"year\"] = df_train[\"title\"].apply(get_year)\n",
        "df_test[\"year\"] = df_test[\"title\"].apply(get_year)"
      ],
      "metadata": {
        "id": "__7155cVYC9g"
      },
      "id": "__7155cVYC9g",
      "execution_count": 8,
      "outputs": []
    },
    {
      "cell_type": "markdown",
      "id": "314f2a64",
      "metadata": {
        "id": "314f2a64"
      },
      "source": [
        "## Remove Stopwords"
      ]
    },
    {
      "cell_type": "code",
      "execution_count": 10,
      "id": "9cbb4392",
      "metadata": {
        "id": "9cbb4392"
      },
      "outputs": [],
      "source": [
        "# Defining stopwords\n",
        "# using predefined english stopwords\n",
        "stop_words = set(stopwords.words('english'))\n",
        "\n",
        "# including additional stopwords\n",
        "my_stopwords = ['lol', 'people', 'expand',\n",
        "                'really', 'deal','u', 'much', 'get', 'good', 'act', 'put', 'man', 'a', 'think', 'one',\n",
        "                'say', 'like', 'go', 'do', 'head', 'yet', 'wall', 'guess', 'keep', 'oh', 'north', 'oil',\n",
        "                'prize', 'involved', 'might', 'medium''among', 'might', 'make', 'do', 'may', 'year', 'give',\n",
        "                'also', 'law', 'etc', 'wait', 'prove', 'mean', 'thing', 'rest', 'middle','rnr','u','fuck','make',\n",
        "                'would', 'know', 'lot', 'see', 'president', 'done', 'even', 'many', 'ever', 'want', 'made',\n",
        "                'got', 'going', 'need', 'view', 'something', 'lasting', 'still', 'way', 'every', 'anyone', \n",
        "                'first', 'look', 'medium', 'time', 'since', 'life', 'probably', 'anything', 'come', \n",
        "                'long', 'could', 'anything', 'donald', 'back', 'sure', 'last', 'nothing', 'rate', 'well',\n",
        "                'left', 'le', 'someone', 'example', 'seen', 'day', 'said', 'world', 'making', 'far', 'care',\n",
        "                'shit','america','issue','new', 'actually','never','whole','exposed','imapct','side','single']\n",
        "stop_words.update(my_stopwords)"
      ]
    },
    {
      "cell_type": "code",
      "execution_count": 11,
      "id": "Rm2qPmqJ0BPD",
      "metadata": {
        "id": "Rm2qPmqJ0BPD"
      },
      "outputs": [],
      "source": [
        "df_train['description_pp'] = df_train['description'].apply(remove_stopwords, args=(stop_words,))\n",
        "df_test['description_pp'] = df_test['description'].apply(remove_stopwords, args=(stop_words,))"
      ]
    },
    {
      "cell_type": "markdown",
      "id": "0fda95e9",
      "metadata": {
        "id": "0fda95e9"
      },
      "source": [
        "### Lemmatize"
      ]
    },
    {
      "cell_type": "code",
      "execution_count": 12,
      "id": "559ace0b",
      "metadata": {
        "colab": {
          "base_uri": "https://localhost:8080/",
          "height": 206
        },
        "id": "559ace0b",
        "outputId": "36abbf3c-5f82-43af-8ef3-4fdef33ba49e"
      },
      "outputs": [
        {
          "output_type": "execute_result",
          "data": {
            "text/plain": [
              "                            title     genre  \\\n",
              "0   Oscar et la dame rose (2009)      drama   \n",
              "1                   Cupid (1997)   thriller   \n",
              "3          The Secret Sin (1915)      drama   \n",
              "4         The Unrecovered (2007)      drama   \n",
              "6             \"Pink Slip\" (2009)     comedy   \n",
              "\n",
              "                                         description  year  \\\n",
              "0   Listening in to a conversation between his do...  2009   \n",
              "1   A brother and sister with a past incestuous r...  1997   \n",
              "3   To help their unemployed father make ends mee...  1915   \n",
              "4   The film's title refers not only to the un-re...  2007   \n",
              "6   In tough economic times Max and Joey have all...  2009   \n",
              "\n",
              "                                      description_pp  \n",
              "0  Listening conversation doctor parents, 10-year...  \n",
              "1  brother sister past incestuous relationship cu...  \n",
              "3  help unemployed father ends meet, Edith twin s...  \n",
              "4  film's title refers un-recovered bodies ground...  \n",
              "6  tough economic times Max Joey run ideas until,...  "
            ],
            "text/html": [
              "\n",
              "  <div id=\"df-59b2fff6-374c-42b6-8107-18aadc0996b8\">\n",
              "    <div class=\"colab-df-container\">\n",
              "      <div>\n",
              "<style scoped>\n",
              "    .dataframe tbody tr th:only-of-type {\n",
              "        vertical-align: middle;\n",
              "    }\n",
              "\n",
              "    .dataframe tbody tr th {\n",
              "        vertical-align: top;\n",
              "    }\n",
              "\n",
              "    .dataframe thead th {\n",
              "        text-align: right;\n",
              "    }\n",
              "</style>\n",
              "<table border=\"1\" class=\"dataframe\">\n",
              "  <thead>\n",
              "    <tr style=\"text-align: right;\">\n",
              "      <th></th>\n",
              "      <th>title</th>\n",
              "      <th>genre</th>\n",
              "      <th>description</th>\n",
              "      <th>year</th>\n",
              "      <th>description_pp</th>\n",
              "    </tr>\n",
              "  </thead>\n",
              "  <tbody>\n",
              "    <tr>\n",
              "      <th>0</th>\n",
              "      <td>Oscar et la dame rose (2009)</td>\n",
              "      <td>drama</td>\n",
              "      <td>Listening in to a conversation between his do...</td>\n",
              "      <td>2009</td>\n",
              "      <td>Listening conversation doctor parents, 10-year...</td>\n",
              "    </tr>\n",
              "    <tr>\n",
              "      <th>1</th>\n",
              "      <td>Cupid (1997)</td>\n",
              "      <td>thriller</td>\n",
              "      <td>A brother and sister with a past incestuous r...</td>\n",
              "      <td>1997</td>\n",
              "      <td>brother sister past incestuous relationship cu...</td>\n",
              "    </tr>\n",
              "    <tr>\n",
              "      <th>3</th>\n",
              "      <td>The Secret Sin (1915)</td>\n",
              "      <td>drama</td>\n",
              "      <td>To help their unemployed father make ends mee...</td>\n",
              "      <td>1915</td>\n",
              "      <td>help unemployed father ends meet, Edith twin s...</td>\n",
              "    </tr>\n",
              "    <tr>\n",
              "      <th>4</th>\n",
              "      <td>The Unrecovered (2007)</td>\n",
              "      <td>drama</td>\n",
              "      <td>The film's title refers not only to the un-re...</td>\n",
              "      <td>2007</td>\n",
              "      <td>film's title refers un-recovered bodies ground...</td>\n",
              "    </tr>\n",
              "    <tr>\n",
              "      <th>6</th>\n",
              "      <td>\"Pink Slip\" (2009)</td>\n",
              "      <td>comedy</td>\n",
              "      <td>In tough economic times Max and Joey have all...</td>\n",
              "      <td>2009</td>\n",
              "      <td>tough economic times Max Joey run ideas until,...</td>\n",
              "    </tr>\n",
              "  </tbody>\n",
              "</table>\n",
              "</div>\n",
              "      <button class=\"colab-df-convert\" onclick=\"convertToInteractive('df-59b2fff6-374c-42b6-8107-18aadc0996b8')\"\n",
              "              title=\"Convert this dataframe to an interactive table.\"\n",
              "              style=\"display:none;\">\n",
              "        \n",
              "  <svg xmlns=\"http://www.w3.org/2000/svg\" height=\"24px\"viewBox=\"0 0 24 24\"\n",
              "       width=\"24px\">\n",
              "    <path d=\"M0 0h24v24H0V0z\" fill=\"none\"/>\n",
              "    <path d=\"M18.56 5.44l.94 2.06.94-2.06 2.06-.94-2.06-.94-.94-2.06-.94 2.06-2.06.94zm-11 1L8.5 8.5l.94-2.06 2.06-.94-2.06-.94L8.5 2.5l-.94 2.06-2.06.94zm10 10l.94 2.06.94-2.06 2.06-.94-2.06-.94-.94-2.06-.94 2.06-2.06.94z\"/><path d=\"M17.41 7.96l-1.37-1.37c-.4-.4-.92-.59-1.43-.59-.52 0-1.04.2-1.43.59L10.3 9.45l-7.72 7.72c-.78.78-.78 2.05 0 2.83L4 21.41c.39.39.9.59 1.41.59.51 0 1.02-.2 1.41-.59l7.78-7.78 2.81-2.81c.8-.78.8-2.07 0-2.86zM5.41 20L4 18.59l7.72-7.72 1.47 1.35L5.41 20z\"/>\n",
              "  </svg>\n",
              "      </button>\n",
              "      \n",
              "  <style>\n",
              "    .colab-df-container {\n",
              "      display:flex;\n",
              "      flex-wrap:wrap;\n",
              "      gap: 12px;\n",
              "    }\n",
              "\n",
              "    .colab-df-convert {\n",
              "      background-color: #E8F0FE;\n",
              "      border: none;\n",
              "      border-radius: 50%;\n",
              "      cursor: pointer;\n",
              "      display: none;\n",
              "      fill: #1967D2;\n",
              "      height: 32px;\n",
              "      padding: 0 0 0 0;\n",
              "      width: 32px;\n",
              "    }\n",
              "\n",
              "    .colab-df-convert:hover {\n",
              "      background-color: #E2EBFA;\n",
              "      box-shadow: 0px 1px 2px rgba(60, 64, 67, 0.3), 0px 1px 3px 1px rgba(60, 64, 67, 0.15);\n",
              "      fill: #174EA6;\n",
              "    }\n",
              "\n",
              "    [theme=dark] .colab-df-convert {\n",
              "      background-color: #3B4455;\n",
              "      fill: #D2E3FC;\n",
              "    }\n",
              "\n",
              "    [theme=dark] .colab-df-convert:hover {\n",
              "      background-color: #434B5C;\n",
              "      box-shadow: 0px 1px 3px 1px rgba(0, 0, 0, 0.15);\n",
              "      filter: drop-shadow(0px 1px 2px rgba(0, 0, 0, 0.3));\n",
              "      fill: #FFFFFF;\n",
              "    }\n",
              "  </style>\n",
              "\n",
              "      <script>\n",
              "        const buttonEl =\n",
              "          document.querySelector('#df-59b2fff6-374c-42b6-8107-18aadc0996b8 button.colab-df-convert');\n",
              "        buttonEl.style.display =\n",
              "          google.colab.kernel.accessAllowed ? 'block' : 'none';\n",
              "\n",
              "        async function convertToInteractive(key) {\n",
              "          const element = document.querySelector('#df-59b2fff6-374c-42b6-8107-18aadc0996b8');\n",
              "          const dataTable =\n",
              "            await google.colab.kernel.invokeFunction('convertToInteractive',\n",
              "                                                     [key], {});\n",
              "          if (!dataTable) return;\n",
              "\n",
              "          const docLinkHtml = 'Like what you see? Visit the ' +\n",
              "            '<a target=\"_blank\" href=https://colab.research.google.com/notebooks/data_table.ipynb>data table notebook</a>'\n",
              "            + ' to learn more about interactive tables.';\n",
              "          element.innerHTML = '';\n",
              "          dataTable['output_type'] = 'display_data';\n",
              "          await google.colab.output.renderOutput(dataTable, element);\n",
              "          const docLink = document.createElement('div');\n",
              "          docLink.innerHTML = docLinkHtml;\n",
              "          element.appendChild(docLink);\n",
              "        }\n",
              "      </script>\n",
              "    </div>\n",
              "  </div>\n",
              "  "
            ]
          },
          "metadata": {},
          "execution_count": 12
        }
      ],
      "source": [
        "# Tokenize: Split the sentence into words\n",
        "docs = df_train['description_pp']\n",
        "\n",
        "lemmatizer = WordNetLemmatizer()\n",
        "docs = [[lemmatizer.lemmatize(token) for token in doc] for doc in docs]\n",
        "\n",
        "# Lemmatize list of words and join\n",
        "lemmatized_output = [''.join([lemmatizer.lemmatize(w) for w in doc]) for doc in docs]\n",
        "df_train['description_pp'] = lemmatized_output\n",
        "df_train.head()"
      ]
    },
    {
      "cell_type": "code",
      "execution_count": 13,
      "id": "979b414c",
      "metadata": {
        "colab": {
          "base_uri": "https://localhost:8080/",
          "height": 206
        },
        "id": "979b414c",
        "outputId": "568730bb-6b35-4474-b696-85214800505e"
      },
      "outputs": [
        {
          "output_type": "execute_result",
          "data": {
            "text/plain": [
              "                        title     genre  \\\n",
              "0       Edgar's Lunch (1998)   thriller   \n",
              "1   La guerra de papá (1977)     comedy   \n",
              "3     Meu Amigo Hindu (2015)      drama   \n",
              "4          Er nu zhai (1955)      drama   \n",
              "5         Riddle Room (2016)     horror   \n",
              "\n",
              "                                         description  year  \\\n",
              "0   L.R. Brane loves his life - his car, his apar...  1998   \n",
              "1   Spain, March 1964: Quico is a very naughty ch...  1977   \n",
              "3   His father has died, he hasn't spoken with hi...  2015   \n",
              "4   Before he was known internationally as a mart...  1955   \n",
              "5   Emily Burns is being held captive in a room w...  2016   \n",
              "\n",
              "                                      description_pp  \n",
              "0  L.R. Brane loves - car, apartment, job, especi...  \n",
              "1  Spain, March 1964: Quico naughty child three b...  \n",
              "3  father died, spoken brother 10 years serious c...  \n",
              "4  known internationally martial arts superstar, ...  \n",
              "5  Emily Burns held captive room idea there. Dete...  "
            ],
            "text/html": [
              "\n",
              "  <div id=\"df-eb9a9437-df36-4057-90ab-06ce4d20529d\">\n",
              "    <div class=\"colab-df-container\">\n",
              "      <div>\n",
              "<style scoped>\n",
              "    .dataframe tbody tr th:only-of-type {\n",
              "        vertical-align: middle;\n",
              "    }\n",
              "\n",
              "    .dataframe tbody tr th {\n",
              "        vertical-align: top;\n",
              "    }\n",
              "\n",
              "    .dataframe thead th {\n",
              "        text-align: right;\n",
              "    }\n",
              "</style>\n",
              "<table border=\"1\" class=\"dataframe\">\n",
              "  <thead>\n",
              "    <tr style=\"text-align: right;\">\n",
              "      <th></th>\n",
              "      <th>title</th>\n",
              "      <th>genre</th>\n",
              "      <th>description</th>\n",
              "      <th>year</th>\n",
              "      <th>description_pp</th>\n",
              "    </tr>\n",
              "  </thead>\n",
              "  <tbody>\n",
              "    <tr>\n",
              "      <th>0</th>\n",
              "      <td>Edgar's Lunch (1998)</td>\n",
              "      <td>thriller</td>\n",
              "      <td>L.R. Brane loves his life - his car, his apar...</td>\n",
              "      <td>1998</td>\n",
              "      <td>L.R. Brane loves - car, apartment, job, especi...</td>\n",
              "    </tr>\n",
              "    <tr>\n",
              "      <th>1</th>\n",
              "      <td>La guerra de papá (1977)</td>\n",
              "      <td>comedy</td>\n",
              "      <td>Spain, March 1964: Quico is a very naughty ch...</td>\n",
              "      <td>1977</td>\n",
              "      <td>Spain, March 1964: Quico naughty child three b...</td>\n",
              "    </tr>\n",
              "    <tr>\n",
              "      <th>3</th>\n",
              "      <td>Meu Amigo Hindu (2015)</td>\n",
              "      <td>drama</td>\n",
              "      <td>His father has died, he hasn't spoken with hi...</td>\n",
              "      <td>2015</td>\n",
              "      <td>father died, spoken brother 10 years serious c...</td>\n",
              "    </tr>\n",
              "    <tr>\n",
              "      <th>4</th>\n",
              "      <td>Er nu zhai (1955)</td>\n",
              "      <td>drama</td>\n",
              "      <td>Before he was known internationally as a mart...</td>\n",
              "      <td>1955</td>\n",
              "      <td>known internationally martial arts superstar, ...</td>\n",
              "    </tr>\n",
              "    <tr>\n",
              "      <th>5</th>\n",
              "      <td>Riddle Room (2016)</td>\n",
              "      <td>horror</td>\n",
              "      <td>Emily Burns is being held captive in a room w...</td>\n",
              "      <td>2016</td>\n",
              "      <td>Emily Burns held captive room idea there. Dete...</td>\n",
              "    </tr>\n",
              "  </tbody>\n",
              "</table>\n",
              "</div>\n",
              "      <button class=\"colab-df-convert\" onclick=\"convertToInteractive('df-eb9a9437-df36-4057-90ab-06ce4d20529d')\"\n",
              "              title=\"Convert this dataframe to an interactive table.\"\n",
              "              style=\"display:none;\">\n",
              "        \n",
              "  <svg xmlns=\"http://www.w3.org/2000/svg\" height=\"24px\"viewBox=\"0 0 24 24\"\n",
              "       width=\"24px\">\n",
              "    <path d=\"M0 0h24v24H0V0z\" fill=\"none\"/>\n",
              "    <path d=\"M18.56 5.44l.94 2.06.94-2.06 2.06-.94-2.06-.94-.94-2.06-.94 2.06-2.06.94zm-11 1L8.5 8.5l.94-2.06 2.06-.94-2.06-.94L8.5 2.5l-.94 2.06-2.06.94zm10 10l.94 2.06.94-2.06 2.06-.94-2.06-.94-.94-2.06-.94 2.06-2.06.94z\"/><path d=\"M17.41 7.96l-1.37-1.37c-.4-.4-.92-.59-1.43-.59-.52 0-1.04.2-1.43.59L10.3 9.45l-7.72 7.72c-.78.78-.78 2.05 0 2.83L4 21.41c.39.39.9.59 1.41.59.51 0 1.02-.2 1.41-.59l7.78-7.78 2.81-2.81c.8-.78.8-2.07 0-2.86zM5.41 20L4 18.59l7.72-7.72 1.47 1.35L5.41 20z\"/>\n",
              "  </svg>\n",
              "      </button>\n",
              "      \n",
              "  <style>\n",
              "    .colab-df-container {\n",
              "      display:flex;\n",
              "      flex-wrap:wrap;\n",
              "      gap: 12px;\n",
              "    }\n",
              "\n",
              "    .colab-df-convert {\n",
              "      background-color: #E8F0FE;\n",
              "      border: none;\n",
              "      border-radius: 50%;\n",
              "      cursor: pointer;\n",
              "      display: none;\n",
              "      fill: #1967D2;\n",
              "      height: 32px;\n",
              "      padding: 0 0 0 0;\n",
              "      width: 32px;\n",
              "    }\n",
              "\n",
              "    .colab-df-convert:hover {\n",
              "      background-color: #E2EBFA;\n",
              "      box-shadow: 0px 1px 2px rgba(60, 64, 67, 0.3), 0px 1px 3px 1px rgba(60, 64, 67, 0.15);\n",
              "      fill: #174EA6;\n",
              "    }\n",
              "\n",
              "    [theme=dark] .colab-df-convert {\n",
              "      background-color: #3B4455;\n",
              "      fill: #D2E3FC;\n",
              "    }\n",
              "\n",
              "    [theme=dark] .colab-df-convert:hover {\n",
              "      background-color: #434B5C;\n",
              "      box-shadow: 0px 1px 3px 1px rgba(0, 0, 0, 0.15);\n",
              "      filter: drop-shadow(0px 1px 2px rgba(0, 0, 0, 0.3));\n",
              "      fill: #FFFFFF;\n",
              "    }\n",
              "  </style>\n",
              "\n",
              "      <script>\n",
              "        const buttonEl =\n",
              "          document.querySelector('#df-eb9a9437-df36-4057-90ab-06ce4d20529d button.colab-df-convert');\n",
              "        buttonEl.style.display =\n",
              "          google.colab.kernel.accessAllowed ? 'block' : 'none';\n",
              "\n",
              "        async function convertToInteractive(key) {\n",
              "          const element = document.querySelector('#df-eb9a9437-df36-4057-90ab-06ce4d20529d');\n",
              "          const dataTable =\n",
              "            await google.colab.kernel.invokeFunction('convertToInteractive',\n",
              "                                                     [key], {});\n",
              "          if (!dataTable) return;\n",
              "\n",
              "          const docLinkHtml = 'Like what you see? Visit the ' +\n",
              "            '<a target=\"_blank\" href=https://colab.research.google.com/notebooks/data_table.ipynb>data table notebook</a>'\n",
              "            + ' to learn more about interactive tables.';\n",
              "          element.innerHTML = '';\n",
              "          dataTable['output_type'] = 'display_data';\n",
              "          await google.colab.output.renderOutput(dataTable, element);\n",
              "          const docLink = document.createElement('div');\n",
              "          docLink.innerHTML = docLinkHtml;\n",
              "          element.appendChild(docLink);\n",
              "        }\n",
              "      </script>\n",
              "    </div>\n",
              "  </div>\n",
              "  "
            ]
          },
          "metadata": {},
          "execution_count": 13
        }
      ],
      "source": [
        "# Tokenize: Split the sentence into words\n",
        "docs = df_test['description_pp']\n",
        "\n",
        "lemmatizer = WordNetLemmatizer()\n",
        "docs = [[lemmatizer.lemmatize(token) for token in doc] for doc in docs]\n",
        "\n",
        "# Lemmatize list of words and join\n",
        "lemmatized_output = [''.join([lemmatizer.lemmatize(w) for w in doc]) for doc in docs]\n",
        "df_test['description_pp'] = lemmatized_output\n",
        "df_test.head()"
      ]
    },
    {
      "cell_type": "markdown",
      "id": "f2261344",
      "metadata": {
        "id": "f2261344"
      },
      "source": [
        "# Baseline"
      ]
    },
    {
      "cell_type": "markdown",
      "id": "q35ZKsHI4ocb",
      "metadata": {
        "id": "q35ZKsHI4ocb"
      },
      "source": [
        "## Random assignment based on frequency of genres in the training data"
      ]
    },
    {
      "cell_type": "markdown",
      "id": "XevdyuyV5hh0",
      "metadata": {
        "id": "XevdyuyV5hh0"
      },
      "source": [
        "Choose randomly among the genres and use the share of the genres in the training data set as probability that a specific genre is assigned"
      ]
    },
    {
      "cell_type": "code",
      "execution_count": 14,
      "id": "8dd4xRNb2g3c",
      "metadata": {
        "id": "8dd4xRNb2g3c"
      },
      "outputs": [],
      "source": [
        "genre_priors = df_train.genre.value_counts() / df_train.shape[0]\n",
        "genre_priors = pd.DataFrame(data={\"genre\":genre_priors.index, \"probability\": genre_priors.values})\n",
        "genre_priors = genre_priors.sort_values(\"genre\")"
      ]
    },
    {
      "cell_type": "code",
      "execution_count": 15,
      "id": "EvHcncJL2iL1",
      "metadata": {
        "id": "EvHcncJL2iL1"
      },
      "outputs": [],
      "source": [
        "# Predict genres for test data\n",
        "prior_predictions = np.random.choice(genre_priors.genre.values, size = df_test.shape[0], p = genre_priors.probability.values)\n",
        "df_test[\"prior_predictions\"] = prior_predictions"
      ]
    },
    {
      "cell_type": "code",
      "execution_count": 16,
      "id": "2NixmsPz5JUG",
      "metadata": {
        "colab": {
          "base_uri": "https://localhost:8080/"
        },
        "id": "2NixmsPz5JUG",
        "outputId": "d524c02e-3430-45e7-e5af-9f2f31ab41c6"
      },
      "outputs": [
        {
          "output_type": "stream",
          "name": "stdout",
          "text": [
            "F1:  0.32580814337081754\n",
            "Recall:  0.3266772015515012\n"
          ]
        }
      ],
      "source": [
        "# Evaluate prediction performance\n",
        "true_labels = df_test[\"genre\"]\n",
        "f1 = f1_score(true_labels, prior_predictions, average=\"weighted\")\n",
        "recall = recall_score(true_labels, prior_predictions, average=\"weighted\")\n",
        "\n",
        "print(\"F1: \",f1)\n",
        "print(\"Recall: \",recall)"
      ]
    },
    {
      "cell_type": "markdown",
      "id": "X9a_0ugM4sj8",
      "metadata": {
        "id": "X9a_0ugM4sj8"
      },
      "source": [
        "## Dictionary based prediction"
      ]
    },
    {
      "cell_type": "markdown",
      "source": [
        "### Frequency (TF) dictionary\n",
        "\n",
        "Creating an dictionary using the 50 most frequent words per category."
      ],
      "metadata": {
        "id": "RloPAeaxGfFj"
      },
      "id": "RloPAeaxGfFj"
    },
    {
      "cell_type": "code",
      "source": [
        "terms_by_genre = {}\n",
        "\n",
        "# Iterrate over genres\n",
        "for genre in df_train['genre'].unique():\n",
        "\n",
        "    # Join descriptions of all movies for each genre\n",
        "    genre_df = df_train[df_train['genre'] == genre]\n",
        "    all_descriptions = ' '.join(genre_df['description_pp'])\n",
        "    all_words = all_descriptions.split()\n",
        "    word_counts = Counter(all_words)\n",
        "    sorted_words = sorted(word_counts.items(), key=lambda x: x[1], reverse=True)\n",
        "    top_words = [word for word, count in sorted_words[:50]]\n",
        "    terms_by_genre[genre] = top_words"
      ],
      "metadata": {
        "id": "hEfQplLaGebO"
      },
      "id": "hEfQplLaGebO",
      "execution_count": 17,
      "outputs": []
    },
    {
      "cell_type": "code",
      "source": [
        "df_test[\"frequency_prediction\"] = dictionary_predictions(df_test, \"description_pp\", terms_by_genre, genre_priors)"
      ],
      "metadata": {
        "colab": {
          "base_uri": "https://localhost:8080/"
        },
        "id": "o92tFGSEHudP",
        "outputId": "cab1e174-6dee-44fb-e4c7-8a3f1af9499a"
      },
      "id": "o92tFGSEHudP",
      "execution_count": 18,
      "outputs": [
        {
          "output_type": "stream",
          "name": "stdout",
          "text": [
            "Share of data which was labeled based on dictionary: 0.521\n",
            "Share of data randomly labled using prior distribution: 0.479\n"
          ]
        }
      ]
    },
    {
      "cell_type": "code",
      "source": [
        "true_labels = df_test[\"genre\"]\n",
        "f1 = f1_score(true_labels, df_test[\"frequency_prediction\"], average=\"weighted\")\n",
        "recall = recall_score(true_labels, df_test[\"frequency_prediction\"], average=\"weighted\")\n",
        "\n",
        "print(\"F1: \",f1)\n",
        "\n",
        "print(\"Recall: \",recall)"
      ],
      "metadata": {
        "colab": {
          "base_uri": "https://localhost:8080/"
        },
        "id": "Qk1ByRXqHuTz",
        "outputId": "ad686450-eac5-4869-ecca-4e667f3d59bd"
      },
      "id": "Qk1ByRXqHuTz",
      "execution_count": 19,
      "outputs": [
        {
          "output_type": "stream",
          "name": "stdout",
          "text": [
            "F1:  0.4091824381667852\n",
            "Recall:  0.3920772877460135\n"
          ]
        }
      ]
    },
    {
      "cell_type": "markdown",
      "source": [
        "### TF-IDF dictionary"
      ],
      "metadata": {
        "id": "u7yY-xcxIJ7G"
      },
      "id": "u7yY-xcxIJ7G"
    },
    {
      "cell_type": "code",
      "execution_count": 20,
      "id": "DWohGbfV_y3P",
      "metadata": {
        "id": "DWohGbfV_y3P"
      },
      "outputs": [],
      "source": [
        "# Create a dictionary with the most important words per genre \n",
        "genre_descriptions = df_train.groupby(['genre'])['description_pp'].apply(','.join).reset_index()\n",
        "important_dict_tfidf = create_tfidf_dict(genre_descriptions, 'description_pp', 'genre', 50)"
      ]
    },
    {
      "cell_type": "code",
      "execution_count": 21,
      "id": "y8dJIxAV59Q_",
      "metadata": {
        "colab": {
          "base_uri": "https://localhost:8080/"
        },
        "id": "y8dJIxAV59Q_",
        "outputId": "08e53bd2-07be-40f4-81da-b1259463c778"
      },
      "outputs": [
        {
          "output_type": "stream",
          "name": "stdout",
          "text": [
            "Share of data which was labeled based on dictionary: 0.303\n",
            "Share of data randomly labled using prior distribution: 0.697\n"
          ]
        }
      ],
      "source": [
        "df_test[\"tfidf_prediction\"] = dictionary_predictions(df_test, \"description_pp\", important_dict_tfidf, genre_priors)"
      ]
    },
    {
      "cell_type": "code",
      "execution_count": 22,
      "id": "GDJJxyGaBeSC",
      "metadata": {
        "colab": {
          "base_uri": "https://localhost:8080/"
        },
        "id": "GDJJxyGaBeSC",
        "outputId": "0255c381-ccaa-4229-a681-7aa1f0bcfd0a"
      },
      "outputs": [
        {
          "output_type": "stream",
          "name": "stdout",
          "text": [
            "F1:  0.4063986940496601\n",
            "Recall:  0.39940382129004454\n"
          ]
        }
      ],
      "source": [
        "# Evaluate prediction performance\n",
        "true_labels = df_test[\"genre\"]\n",
        "f1 = f1_score(true_labels, df_test[\"tfidf_prediction\"], average=\"weighted\")\n",
        "recall = recall_score(true_labels, df_test[\"tfidf_prediction\"], average=\"weighted\")\n",
        "\n",
        "print(\"F1: \",f1)\n",
        "print(\"Recall: \",recall)"
      ]
    },
    {
      "cell_type": "markdown",
      "id": "f2536653",
      "metadata": {
        "id": "f2536653"
      },
      "source": [
        "# GRU Network"
      ]
    },
    {
      "cell_type": "markdown",
      "source": [
        "In this report we choose a Gated Recurrent Unit (GRU) neural network for our Recurrent Neural Network (RNN) model. GRU neural networks are designed to capture long-term dependencies in sequential data, they use two gate mechanisms to control the flow of information between the hidden states of the network.\n",
        "\n",
        "On one hand, there's the update gate which helps the model to determine how much of the past information (from previous time steps) needs to be passed along to the future. Finally there's also the reset gate which is used from the model to decide how much of the past information to forget. This allows them to selectively update or forget information from previous time steps, which helps prevent the vanishing gradient problem and allows them to better handle long-term dependencies.\n",
        "\n",
        "Additionally, we chose a GRU model because they are computationally efficient and have fewer parameters compared to other RNNs like Long Short-Term Memory (LSTM), making them a good choice when we have with limited computational resources."
      ],
      "metadata": {
        "id": "pecRt8Iwiho3"
      },
      "id": "pecRt8Iwiho3"
    },
    {
      "cell_type": "code",
      "execution_count": null,
      "id": "f55cecf9",
      "metadata": {
        "id": "f55cecf9",
        "outputId": "69f4b2e4-e47f-4351-cabf-1610deeca427"
      },
      "outputs": [
        {
          "name": "stdout",
          "output_type": "stream",
          "text": [
            "Is CUDA supported by this system? True\n",
            "CUDA version: 12.1\n",
            "ID of current CUDA device: 0\n",
            "Name of current CUDA device: NVIDIA GeForce RTX 3060 Laptop GPU\n"
          ]
        }
      ],
      "source": [
        "# input and target columns\n",
        "X_train = df_train[\"description\"].values\n",
        "y_train = pd.get_dummies(df_train[\"genre\"]).values\n",
        "\n",
        "X_test = df_test[\"description\"].values\n",
        "y_test = pd.get_dummies(df_test[\"genre\"]).values\n",
        "\n",
        "# find the maximum length of the descriptions or 1200\n",
        "maxlen = min(max(len(description) for description in X_train), 1200)"
      ]
    },
    {
      "cell_type": "code",
      "execution_count": null,
      "id": "707c29bc",
      "metadata": {
        "id": "707c29bc"
      },
      "outputs": [],
      "source": [
        "# tokenize the input text\n",
        "tokenizer = Tokenizer(num_words=10000)\n",
        "tokenizer.fit_on_texts(X_train)\n",
        "X_train = tokenizer.texts_to_sequences(X_train)\n",
        "X_train = pad_sequences(X_train, maxlen=maxlen)\n",
        "X_test = tokenizer.texts_to_sequences(X_test)\n",
        "X_test = pad_sequences(X_test, maxlen=maxlen)"
      ]
    },
    {
      "cell_type": "markdown",
      "source": [
        "In our case we will build a one layer GRU neural network, with a final softmax layer to choose over the 7 possible final classes."
      ],
      "metadata": {
        "id": "f1bWJDnCis0b"
      },
      "id": "f1bWJDnCis0b"
    },
    {
      "cell_type": "code",
      "execution_count": null,
      "id": "2230c1d2",
      "metadata": {
        "colab": {
          "base_uri": "https://localhost:8080/",
          "height": 399
        },
        "id": "2230c1d2",
        "outputId": "9c080479-55d1-48d4-b01e-58fab844e017"
      },
      "outputs": [
        {
          "name": "stdout",
          "output_type": "stream",
          "text": [
            "Epoch 1/20\n",
            "697/697 [==============================] - 189s 268ms/step - loss: 1.1763 - accuracy: 0.5636 - val_loss: 0.9443 - val_accuracy: 0.6591\n",
            "Epoch 2/20\n",
            "697/697 [==============================] - 188s 269ms/step - loss: 0.8163 - accuracy: 0.7056 - val_loss: 0.8963 - val_accuracy: 0.6858\n",
            "Epoch 3/20\n",
            "697/697 [==============================] - 185s 265ms/step - loss: 0.6168 - accuracy: 0.7832 - val_loss: 0.8992 - val_accuracy: 0.6968\n",
            "Epoch 4/20\n",
            "697/697 [==============================] - 189s 271ms/step - loss: 0.4577 - accuracy: 0.8370 - val_loss: 1.0352 - val_accuracy: 0.6632\n",
            "Epoch 5/20\n",
            "697/697 [==============================] - 202s 290ms/step - loss: 0.3260 - accuracy: 0.8900 - val_loss: 1.1670 - val_accuracy: 0.6598\n",
            "Epoch 6/20\n",
            "288/697 [===========>..................] - ETA: 1:44 - loss: 0.1988 - accuracy: 0.9386"
          ]
        }
      ],
      "source": [
        "if os.path.isfile('bidir_gru_model'):\n",
        "    \n",
        "    model = keras.models.load_model('bidir_gru_model')\n",
        "    \n",
        "else:\n",
        "        \n",
        "    # define the model architecture\n",
        "    model = Sequential()\n",
        "    model.add(Embedding(10000, 64, input_length=maxlen))\n",
        "    model.add(Bidirectional(GRU(64, dropout=0.12)))\n",
        "    model.add(Dense(7, activation=\"softmax\"))\n",
        "\n",
        "    # compile the model\n",
        "    model.compile(loss=\"categorical_crossentropy\",\n",
        "                  optimizer=\"adam\",\n",
        "                  metrics=[\"accuracy\"])\n",
        "    \n",
        "    # train the model\n",
        "    model.fit(X_train, y_train, epochs=16,batch_size=32, validation_split=0.2)\n",
        "    \n",
        "    model.save('bidir_gru_model')"
      ]
    },
    {
      "cell_type": "code",
      "execution_count": null,
      "id": "5f704335",
      "metadata": {
        "id": "5f704335"
      },
      "outputs": [],
      "source": [
        "# evaluate the model on the test set\n",
        "y_pred = model.predict(X_test)\n",
        "y_pred = y_pred.argmax(axis=1)\n",
        "y_true = y_test.argmax(axis=1)\n",
        "f1 = f1_score(y_true, y_pred, average=\"weighted\")\n",
        "recall = recall_score(y_true, y_pred, average=\"weighted\")\n",
        "print(\"F1 score:\", f1)\n",
        "print(\"Recall score:\", recall)"
      ]
    },
    {
      "cell_type": "code",
      "execution_count": null,
      "id": "36528881",
      "metadata": {
        "id": "36528881"
      },
      "outputs": [],
      "source": []
    },
    {
      "cell_type": "code",
      "execution_count": null,
      "id": "012d62b4",
      "metadata": {
        "id": "012d62b4"
      },
      "outputs": [],
      "source": []
    },
    {
      "cell_type": "code",
      "execution_count": null,
      "id": "a3120391",
      "metadata": {
        "id": "a3120391"
      },
      "outputs": [],
      "source": []
    },
    {
      "cell_type": "code",
      "execution_count": null,
      "id": "e99e2f4c",
      "metadata": {
        "id": "e99e2f4c"
      },
      "outputs": [],
      "source": []
    }
  ],
  "metadata": {
    "colab": {
      "provenance": []
    },
    "kernelspec": {
      "display_name": "Python 3 (ipykernel)",
      "language": "python",
      "name": "python3"
    },
    "language_info": {
      "codemirror_mode": {
        "name": "ipython",
        "version": 3
      },
      "file_extension": ".py",
      "mimetype": "text/x-python",
      "name": "python",
      "nbconvert_exporter": "python",
      "pygments_lexer": "ipython3",
      "version": "3.10.10"
    }
  },
  "nbformat": 4,
  "nbformat_minor": 5
}