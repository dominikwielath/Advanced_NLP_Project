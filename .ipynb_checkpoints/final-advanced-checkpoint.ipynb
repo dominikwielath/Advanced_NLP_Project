{
 "cells": [
  {
   "cell_type": "markdown",
   "id": "krO312L4w82_",
   "metadata": {
    "id": "krO312L4w82_"
   },
   "source": [
    "# Advanced Methods in Natural Language Processing - Final Project\n",
    "## Predicting Movie Genres from Movie Descriptions\n",
    "### Nikita Baklazhenko, Miguel Conner, David Vallmanya, Dominik Wielath\n",
    "\n",
    "For our final project, we analyzed a data set of movie descriptions from the Internet Movie Database (IMDb) posted on Kaggle. The data set contains, besides the movie description also, its title, the year it was published, and its genre. Our project aims to predict the genre of a movie based on its description. In particular, we compare different methods regarding their predictive power, strengths, and limitations. \n",
    "\n"
   ]
  },
  {
   "cell_type": "code",
   "execution_count": 15,
   "id": "db6e9a56",
   "metadata": {
    "colab": {
     "base_uri": "https://localhost:8080/"
    },
    "id": "db6e9a56",
    "outputId": "b3bc4ed2-f669-4268-a2a5-cb09ebad902f"
   },
   "outputs": [
    {
     "name": "stderr",
     "output_type": "stream",
     "text": [
      "[nltk_data] Error loading stopwords: <urlopen error [SSL:\n",
      "[nltk_data]     CERTIFICATE_VERIFY_FAILED] certificate verify failed:\n",
      "[nltk_data]     unable to get local issuer certificate (_ssl.c:997)>\n",
      "[nltk_data] Error loading wordnet: <urlopen error [SSL:\n",
      "[nltk_data]     CERTIFICATE_VERIFY_FAILED] certificate verify failed:\n",
      "[nltk_data]     unable to get local issuer certificate (_ssl.c:997)>\n"
     ]
    }
   ],
   "source": [
    "import os\n",
    "import pandas as pd\n",
    "import matplotlib.pyplot as plt\n",
    "import numpy as np\n",
    "import seaborn as sns\n",
    "import torch\n",
    "import re \n",
    "\n",
    "\n",
    "from collections import Counter\n",
    "from helper_functions import *\n",
    "\n",
    "# Natural language Toolkit\n",
    "import nltk\n",
    "nltk.download('stopwords')\n",
    "nltk.download('wordnet')\n",
    "\n",
    "from nltk.stem import SnowballStemmer                                   # Porter's II Stemmer\n",
    "from nltk import word_tokenize                                          # Document tokenizer\n",
    "from nltk.corpus import stopwords \n",
    "from nltk.stem.wordnet import WordNetLemmatizer\n",
    "\n",
    "\n",
    "from sklearn import metrics\n",
    "from sklearn.metrics import f1_score, recall_score, confusion_matrix, ConfusionMatrixDisplay\n",
    "from sklearn.feature_extraction.text import TfidfVectorizer\n",
    "\n",
    "import tensorflow as tf\n",
    "import tensorflow.keras as keras\n",
    "from tensorflow.keras.layers import GRU, Dense, Embedding, Dropout, Bidirectional\n",
    "from tensorflow.keras.models import Sequential\n",
    "from tensorflow.keras.preprocessing.text import Tokenizer\n",
    "from tensorflow.keras.preprocessing.sequence import pad_sequences"
   ]
  },
  {
   "cell_type": "markdown",
   "id": "df6a3626",
   "metadata": {
    "id": "df6a3626"
   },
   "source": [
    "# Load Data"
   ]
  },
  {
   "cell_type": "code",
   "execution_count": 7,
   "id": "BSauhdxYujWv",
   "metadata": {
    "id": "BSauhdxYujWv"
   },
   "outputs": [],
   "source": [
    "# Set directory\n",
    "directory_david = '/run/media/david-vp/davidvp-files/DSMMaster/advanced-nlp/final-proj/Genre Classification Dataset/'\n",
    "directory_david2 = '/run/media/davovapo/hdd1-dvp/DSMMaster/advanced-nlp/Advanced_NLP_Project/Genre Classification Dataset/'\n",
    "directory_miguel ='/Users/Miguel/Desktop/BSE/Term2/Advanced NLP/Advanced_NLP_Project/Genre Classification Dataset/'\n",
    "directory_dominik = ''\n",
    "\n",
    "directory = directory_miguel"
   ]
  },
  {
   "cell_type": "code",
   "execution_count": 4,
   "id": "wsFOzwD0u2cp",
   "metadata": {
    "colab": {
     "base_uri": "https://localhost:8080/",
     "height": 263
    },
    "id": "wsFOzwD0u2cp",
    "outputId": "8159470f-8b62-47ed-9d77-a5e64fab58a4"
   },
   "outputs": [
    {
     "name": "stderr",
     "output_type": "stream",
     "text": [
      "/tmp/ipykernel_247012/521048698.py:4: ParserWarning: Falling back to the 'python' engine because the 'c' engine does not support regex separators (separators > 1 char and different from '\\s+' are interpreted as regex); you can avoid this warning by specifying engine='python'.\n",
      "  df_train = pd.read_csv(os.path.join(directory, filename), delimiter=\":::\", encoding='utf-8', header=None)\n"
     ]
    },
    {
     "data": {
      "text/html": [
       "<div>\n",
       "<style scoped>\n",
       "    .dataframe tbody tr th:only-of-type {\n",
       "        vertical-align: middle;\n",
       "    }\n",
       "\n",
       "    .dataframe tbody tr th {\n",
       "        vertical-align: top;\n",
       "    }\n",
       "\n",
       "    .dataframe thead th {\n",
       "        text-align: right;\n",
       "    }\n",
       "</style>\n",
       "<table border=\"1\" class=\"dataframe\">\n",
       "  <thead>\n",
       "    <tr style=\"text-align: right;\">\n",
       "      <th></th>\n",
       "      <th>title</th>\n",
       "      <th>genre</th>\n",
       "      <th>description</th>\n",
       "    </tr>\n",
       "  </thead>\n",
       "  <tbody>\n",
       "    <tr>\n",
       "      <th>0</th>\n",
       "      <td>Oscar et la dame rose (2009)</td>\n",
       "      <td>drama</td>\n",
       "      <td>Listening in to a conversation between his do...</td>\n",
       "    </tr>\n",
       "    <tr>\n",
       "      <th>1</th>\n",
       "      <td>Cupid (1997)</td>\n",
       "      <td>thriller</td>\n",
       "      <td>A brother and sister with a past incestuous r...</td>\n",
       "    </tr>\n",
       "    <tr>\n",
       "      <th>2</th>\n",
       "      <td>Young, Wild and Wonderful (1980)</td>\n",
       "      <td>adult</td>\n",
       "      <td>As the bus empties the students for their fie...</td>\n",
       "    </tr>\n",
       "    <tr>\n",
       "      <th>3</th>\n",
       "      <td>The Secret Sin (1915)</td>\n",
       "      <td>drama</td>\n",
       "      <td>To help their unemployed father make ends mee...</td>\n",
       "    </tr>\n",
       "    <tr>\n",
       "      <th>4</th>\n",
       "      <td>The Unrecovered (2007)</td>\n",
       "      <td>drama</td>\n",
       "      <td>The film's title refers not only to the un-re...</td>\n",
       "    </tr>\n",
       "  </tbody>\n",
       "</table>\n",
       "</div>"
      ],
      "text/plain": [
       "                                title     genre  \\\n",
       "0       Oscar et la dame rose (2009)      drama   \n",
       "1                       Cupid (1997)   thriller   \n",
       "2   Young, Wild and Wonderful (1980)      adult   \n",
       "3              The Secret Sin (1915)      drama   \n",
       "4             The Unrecovered (2007)      drama   \n",
       "\n",
       "                                         description  \n",
       "0   Listening in to a conversation between his do...  \n",
       "1   A brother and sister with a past incestuous r...  \n",
       "2   As the bus empties the students for their fie...  \n",
       "3   To help their unemployed father make ends mee...  \n",
       "4   The film's title refers not only to the un-re...  "
      ]
     },
     "execution_count": 4,
     "metadata": {},
     "output_type": "execute_result"
    }
   ],
   "source": [
    "# Load training data set\n",
    "filename =\"train_data.txt\"\n",
    "\n",
    "df_train = pd.read_csv(os.path.join(directory, filename), delimiter=\":::\", encoding='utf-8', header=None)\n",
    "\n",
    "df_train.drop(columns=df_train.columns[0], axis=1, inplace=True)\n",
    "df_train.columns =['title', 'genre', 'description']\n",
    "df_train['genre']=df_train['genre'].apply(lambda x: x.strip())\n",
    "\n",
    "df_train.head()"
   ]
  },
  {
   "cell_type": "code",
   "execution_count": 5,
   "id": "d8c33524",
   "metadata": {
    "colab": {
     "base_uri": "https://localhost:8080/",
     "height": 263
    },
    "id": "d8c33524",
    "outputId": "2f648df5-f5f7-47be-880a-692d3518a276"
   },
   "outputs": [
    {
     "name": "stderr",
     "output_type": "stream",
     "text": [
      "/tmp/ipykernel_247012/2294710050.py:3: ParserWarning: Falling back to the 'python' engine because the 'c' engine does not support regex separators (separators > 1 char and different from '\\s+' are interpreted as regex); you can avoid this warning by specifying engine='python'.\n",
      "  df_test = pd.read_csv(os.path.join(directory, filename), delimiter=\":::\", encoding='utf-8', header=None)\n"
     ]
    },
    {
     "data": {
      "text/html": [
       "<div>\n",
       "<style scoped>\n",
       "    .dataframe tbody tr th:only-of-type {\n",
       "        vertical-align: middle;\n",
       "    }\n",
       "\n",
       "    .dataframe tbody tr th {\n",
       "        vertical-align: top;\n",
       "    }\n",
       "\n",
       "    .dataframe thead th {\n",
       "        text-align: right;\n",
       "    }\n",
       "</style>\n",
       "<table border=\"1\" class=\"dataframe\">\n",
       "  <thead>\n",
       "    <tr style=\"text-align: right;\">\n",
       "      <th></th>\n",
       "      <th>title</th>\n",
       "      <th>genre</th>\n",
       "      <th>description</th>\n",
       "    </tr>\n",
       "  </thead>\n",
       "  <tbody>\n",
       "    <tr>\n",
       "      <th>0</th>\n",
       "      <td>Edgar's Lunch (1998)</td>\n",
       "      <td>thriller</td>\n",
       "      <td>L.R. Brane loves his life - his car, his apar...</td>\n",
       "    </tr>\n",
       "    <tr>\n",
       "      <th>1</th>\n",
       "      <td>La guerra de papá (1977)</td>\n",
       "      <td>comedy</td>\n",
       "      <td>Spain, March 1964: Quico is a very naughty ch...</td>\n",
       "    </tr>\n",
       "    <tr>\n",
       "      <th>2</th>\n",
       "      <td>Off the Beaten Track (2010)</td>\n",
       "      <td>documentary</td>\n",
       "      <td>One year in the life of Albin and his family ...</td>\n",
       "    </tr>\n",
       "    <tr>\n",
       "      <th>3</th>\n",
       "      <td>Meu Amigo Hindu (2015)</td>\n",
       "      <td>drama</td>\n",
       "      <td>His father has died, he hasn't spoken with hi...</td>\n",
       "    </tr>\n",
       "    <tr>\n",
       "      <th>4</th>\n",
       "      <td>Er nu zhai (1955)</td>\n",
       "      <td>drama</td>\n",
       "      <td>Before he was known internationally as a mart...</td>\n",
       "    </tr>\n",
       "  </tbody>\n",
       "</table>\n",
       "</div>"
      ],
      "text/plain": [
       "                           title        genre  \\\n",
       "0          Edgar's Lunch (1998)      thriller   \n",
       "1      La guerra de papá (1977)        comedy   \n",
       "2   Off the Beaten Track (2010)   documentary   \n",
       "3        Meu Amigo Hindu (2015)         drama   \n",
       "4             Er nu zhai (1955)         drama   \n",
       "\n",
       "                                         description  \n",
       "0   L.R. Brane loves his life - his car, his apar...  \n",
       "1   Spain, March 1964: Quico is a very naughty ch...  \n",
       "2   One year in the life of Albin and his family ...  \n",
       "3   His father has died, he hasn't spoken with hi...  \n",
       "4   Before he was known internationally as a mart...  "
      ]
     },
     "execution_count": 5,
     "metadata": {},
     "output_type": "execute_result"
    }
   ],
   "source": [
    "# Load testing data set\n",
    "filename = \"test_data_solution.txt\"\n",
    "df_test = pd.read_csv(os.path.join(directory, filename), delimiter=\":::\", encoding='utf-8', header=None)\n",
    "\n",
    "df_test.drop(columns=df_test.columns[0], axis=1, inplace=True)\n",
    "df_test.columns =['title', 'genre', 'description']\n",
    "df_test['genre']=df_test['genre'].apply(lambda x: x.strip())\n",
    "\n",
    "df_test.head()"
   ]
  },
  {
   "cell_type": "code",
   "execution_count": 6,
   "id": "nh6iLk_5v-Hp",
   "metadata": {
    "colab": {
     "base_uri": "https://localhost:8080/",
     "height": 651
    },
    "id": "nh6iLk_5v-Hp",
    "outputId": "fbfdc084-4939-4d3e-8eef-26d91d9a1b60"
   },
   "outputs": [
    {
     "data": {
      "image/png": "[encoded data removed]",
      "text/plain": [
       "<Figure size 800x600 with 1 Axes>"
      ]
     },
     "metadata": {},
     "output_type": "display_data"
    }
   ],
   "source": [
    "# Create a bar plot of the genre counts\n",
    "sns.set_style(\"whitegrid\")\n",
    "plt.figure(figsize=(8,6))\n",
    "sns.barplot(x=df_train.genre.value_counts().index,\n",
    "            y=df_train.genre.value_counts(),\n",
    "            palette=\"muted\")\n",
    "\n",
    "# Customize the plot\n",
    "plt.title(\"Films per category\", fontsize=18)\n",
    "plt.xlabel(\"Category\", fontsize=14)\n",
    "plt.ylabel(\"Number of Films\", fontsize=14)\n",
    "plt.xticks(rotation=45, ha='right', fontsize=12)\n",
    "\n",
    "# Show the plot\n",
    "plt.show()"
   ]
  },
  {
   "cell_type": "markdown",
   "id": "-LFE6vkB4xWz",
   "metadata": {
    "id": "-LFE6vkB4xWz"
   },
   "source": [
    "We can see that we have very large class imbalance. There are many movies in few categories while most categories only contain a small number of movies. As we expect our model's performance to correlate with the sample size for each category, we exclude categories with very few numbers of movies within our training set. Further, we exclude genres from which we expect that there might be larger variation in the topics discussed in the description. For example a short film could deal with topics similar to genres like horror or comedy. There is likely no clear pattern. Therefore, we also exclude these categories in our analysis. "
   ]
  },
  {
   "cell_type": "code",
   "execution_count": 7,
   "id": "f58f5443",
   "metadata": {
    "id": "f58f5443"
   },
   "outputs": [],
   "source": [
    "# Only keep some columns\n",
    "list_labels = [\"drama\", \"comedy\", \"horror\", \"thriller\", \"action\", \"western\", \"sci-fi\"]\n",
    "\n",
    "df_train = df_train[df_train[\"genre\"].isin(list_labels)]\n",
    "df_test = df_test[df_test[\"genre\"].isin(list_labels)]"
   ]
  },
  {
   "cell_type": "code",
   "execution_count": 8,
   "id": "oLJvaBr-xIS6",
   "metadata": {
    "colab": {
     "base_uri": "https://localhost:8080/",
     "height": 620
    },
    "id": "oLJvaBr-xIS6",
    "outputId": "20a728a2-af07-4de4-db2f-5be53bf0422d"
   },
   "outputs": [
    {
     "data": {
      "image/png": "[encoded data removed]",
      "text/plain": [
       "<Figure size 800x600 with 1 Axes>"
      ]
     },
     "metadata": {},
     "output_type": "display_data"
    }
   ],
   "source": [
    "# Create a bar plot of the genre counts\n",
    "sns.set_style(\"whitegrid\")\n",
    "plt.figure(figsize=(8,6))\n",
    "sns.barplot(x=df_train.genre.value_counts().index,\n",
    "            y=df_train.genre.value_counts(),\n",
    "            palette=\"muted\")\n",
    "\n",
    "# Customize the plot\n",
    "plt.title(\"Films per category\", fontsize=18)\n",
    "plt.xlabel(\"Category\", fontsize=14)\n",
    "plt.ylabel(\"Number of Films\", fontsize=14)\n",
    "plt.xticks(rotation=45, ha='right', fontsize=12)\n",
    "\n",
    "# Show the plot\n",
    "plt.show()"
   ]
  },
  {
   "cell_type": "markdown",
   "id": "-HRXfdNLx4IP",
   "metadata": {
    "id": "-HRXfdNLx4IP"
   },
   "source": [
    "# Preprocessing"
   ]
  },
  {
   "cell_type": "markdown",
   "id": "t9AHVtvFYrTt",
   "metadata": {
    "id": "t9AHVtvFYrTt"
   },
   "source": [
    "## Extract the year from the title and save it as variable in the data frame"
   ]
  },
  {
   "cell_type": "code",
   "execution_count": 9,
   "id": "__7155cVYC9g",
   "metadata": {
    "id": "__7155cVYC9g"
   },
   "outputs": [],
   "source": [
    "df_train[\"year\"] = df_train[\"title\"].apply(get_year)\n",
    "df_test[\"year\"] = df_test[\"title\"].apply(get_year)"
   ]
  },
  {
   "cell_type": "markdown",
   "id": "314f2a64",
   "metadata": {
    "id": "314f2a64"
   },
   "source": [
    "## Remove Stopwords"
   ]
  },
  {
   "cell_type": "code",
   "execution_count": 10,
   "id": "9cbb4392",
   "metadata": {
    "id": "9cbb4392"
   },
   "outputs": [],
   "source": [
    "# Defining stopwords\n",
    "# using predefined english stopwords\n",
    "stop_words = set(stopwords.words('english'))\n",
    "\n",
    "# including additional stopwords\n",
    "my_stopwords = ['lol', 'people', 'expand',\n",
    "                'really', 'deal','u', 'much', 'get', 'good', 'act', 'put', 'man', 'a', 'think', 'one',\n",
    "                'say', 'like', 'go', 'do', 'head', 'yet', 'wall', 'guess', 'keep', 'oh', 'north', 'oil',\n",
    "                'prize', 'involved', 'might', 'medium''among', 'might', 'make', 'do', 'may', 'year', 'give',\n",
    "                'also', 'law', 'etc', 'wait', 'prove', 'mean', 'thing', 'rest', 'middle','rnr','u','fuck','make',\n",
    "                'would', 'know', 'lot', 'see', 'president', 'done', 'even', 'many', 'ever', 'want', 'made',\n",
    "                'got', 'going', 'need', 'view', 'something', 'lasting', 'still', 'way', 'every', 'anyone', \n",
    "                'first', 'look', 'medium', 'time', 'since', 'life', 'probably', 'anything', 'come', \n",
    "                'long', 'could', 'anything', 'donald', 'back', 'sure', 'last', 'nothing', 'rate', 'well',\n",
    "                'left', 'le', 'someone', 'example', 'seen', 'day', 'said', 'world', 'making', 'far', 'care',\n",
    "                'shit','america','issue','new', 'actually','never','whole','exposed','imapct','side','single']\n",
    "stop_words.update(my_stopwords)"
   ]
  },
  {
   "cell_type": "code",
   "execution_count": 11,
   "id": "Rm2qPmqJ0BPD",
   "metadata": {
    "id": "Rm2qPmqJ0BPD"
   },
   "outputs": [],
   "source": [
    "df_train['description_pp'] = df_train['description'].apply(remove_stopwords, args=(stop_words,))\n",
    "df_test['description_pp'] = df_test['description'].apply(remove_stopwords, args=(stop_words,))"
   ]
  },
  {
   "cell_type": "markdown",
   "id": "0fda95e9",
   "metadata": {
    "id": "0fda95e9"
   },
   "source": [
    "### Lemmatize"
   ]
  },
  {
   "cell_type": "code",
   "execution_count": 12,
   "id": "559ace0b",
   "metadata": {
    "colab": {
     "base_uri": "https://localhost:8080/",
     "height": 206
    },
    "id": "559ace0b",
    "outputId": "36abbf3c-5f82-43af-8ef3-4fdef33ba49e"
   },
   "outputs": [
    {
     "data": {
      "text/html": [
       "<div>\n",
       "<style scoped>\n",
       "    .dataframe tbody tr th:only-of-type {\n",
       "        vertical-align: middle;\n",
       "    }\n",
       "\n",
       "    .dataframe tbody tr th {\n",
       "        vertical-align: top;\n",
       "    }\n",
       "\n",
       "    .dataframe thead th {\n",
       "        text-align: right;\n",
       "    }\n",
       "</style>\n",
       "<table border=\"1\" class=\"dataframe\">\n",
       "  <thead>\n",
       "    <tr style=\"text-align: right;\">\n",
       "      <th></th>\n",
       "      <th>title</th>\n",
       "      <th>genre</th>\n",
       "      <th>description</th>\n",
       "      <th>year</th>\n",
       "      <th>description_pp</th>\n",
       "    </tr>\n",
       "  </thead>\n",
       "  <tbody>\n",
       "    <tr>\n",
       "      <th>0</th>\n",
       "      <td>Oscar et la dame rose (2009)</td>\n",
       "      <td>drama</td>\n",
       "      <td>Listening in to a conversation between his do...</td>\n",
       "      <td>2009</td>\n",
       "      <td>Listening conversation doctor parents, 10-year...</td>\n",
       "    </tr>\n",
       "    <tr>\n",
       "      <th>1</th>\n",
       "      <td>Cupid (1997)</td>\n",
       "      <td>thriller</td>\n",
       "      <td>A brother and sister with a past incestuous r...</td>\n",
       "      <td>1997</td>\n",
       "      <td>brother sister past incestuous relationship cu...</td>\n",
       "    </tr>\n",
       "    <tr>\n",
       "      <th>3</th>\n",
       "      <td>The Secret Sin (1915)</td>\n",
       "      <td>drama</td>\n",
       "      <td>To help their unemployed father make ends mee...</td>\n",
       "      <td>1915</td>\n",
       "      <td>help unemployed father ends meet, Edith twin s...</td>\n",
       "    </tr>\n",
       "    <tr>\n",
       "      <th>4</th>\n",
       "      <td>The Unrecovered (2007)</td>\n",
       "      <td>drama</td>\n",
       "      <td>The film's title refers not only to the un-re...</td>\n",
       "      <td>2007</td>\n",
       "      <td>film's title refers un-recovered bodies ground...</td>\n",
       "    </tr>\n",
       "    <tr>\n",
       "      <th>6</th>\n",
       "      <td>\"Pink Slip\" (2009)</td>\n",
       "      <td>comedy</td>\n",
       "      <td>In tough economic times Max and Joey have all...</td>\n",
       "      <td>2009</td>\n",
       "      <td>tough economic times Max Joey run ideas until,...</td>\n",
       "    </tr>\n",
       "  </tbody>\n",
       "</table>\n",
       "</div>"
      ],
      "text/plain": [
       "                            title     genre  \\\n",
       "0   Oscar et la dame rose (2009)      drama   \n",
       "1                   Cupid (1997)   thriller   \n",
       "3          The Secret Sin (1915)      drama   \n",
       "4         The Unrecovered (2007)      drama   \n",
       "6             \"Pink Slip\" (2009)     comedy   \n",
       "\n",
       "                                         description  year  \\\n",
       "0   Listening in to a conversation between his do...  2009   \n",
       "1   A brother and sister with a past incestuous r...  1997   \n",
       "3   To help their unemployed father make ends mee...  1915   \n",
       "4   The film's title refers not only to the un-re...  2007   \n",
       "6   In tough economic times Max and Joey have all...  2009   \n",
       "\n",
       "                                      description_pp  \n",
       "0  Listening conversation doctor parents, 10-year...  \n",
       "1  brother sister past incestuous relationship cu...  \n",
       "3  help unemployed father ends meet, Edith twin s...  \n",
       "4  film's title refers un-recovered bodies ground...  \n",
       "6  tough economic times Max Joey run ideas until,...  "
      ]
     },
     "execution_count": 12,
     "metadata": {},
     "output_type": "execute_result"
    }
   ],
   "source": [
    "# Tokenize: Split the sentence into words\n",
    "docs = df_train['description_pp']\n",
    "\n",
    "lemmatizer = WordNetLemmatizer()\n",
    "docs = [[lemmatizer.lemmatize(token) for token in doc] for doc in docs]\n",
    "\n",
    "# Lemmatize list of words and join\n",
    "lemmatized_output = [''.join([lemmatizer.lemmatize(w) for w in doc]) for doc in docs]\n",
    "df_train['description_pp'] = lemmatized_output\n",
    "df_train.head()"
   ]
  },
  {
   "cell_type": "code",
   "execution_count": 13,
   "id": "979b414c",
   "metadata": {
    "colab": {
     "base_uri": "https://localhost:8080/",
     "height": 206
    },
    "id": "979b414c",
    "outputId": "568730bb-6b35-4474-b696-85214800505e"
   },
   "outputs": [
    {
     "data": {
      "text/html": [
       "<div>\n",
       "<style scoped>\n",
       "    .dataframe tbody tr th:only-of-type {\n",
       "        vertical-align: middle;\n",
       "    }\n",
       "\n",
       "    .dataframe tbody tr th {\n",
       "        vertical-align: top;\n",
       "    }\n",
       "\n",
       "    .dataframe thead th {\n",
       "        text-align: right;\n",
       "    }\n",
       "</style>\n",
       "<table border=\"1\" class=\"dataframe\">\n",
       "  <thead>\n",
       "    <tr style=\"text-align: right;\">\n",
       "      <th></th>\n",
       "      <th>title</th>\n",
       "      <th>genre</th>\n",
       "      <th>description</th>\n",
       "      <th>year</th>\n",
       "      <th>description_pp</th>\n",
       "    </tr>\n",
       "  </thead>\n",
       "  <tbody>\n",
       "    <tr>\n",
       "      <th>0</th>\n",
       "      <td>Edgar's Lunch (1998)</td>\n",
       "      <td>thriller</td>\n",
       "      <td>L.R. Brane loves his life - his car, his apar...</td>\n",
       "      <td>1998</td>\n",
       "      <td>L.R. Brane loves - car, apartment, job, especi...</td>\n",
       "    </tr>\n",
       "    <tr>\n",
       "      <th>1</th>\n",
       "      <td>La guerra de papá (1977)</td>\n",
       "      <td>comedy</td>\n",
       "      <td>Spain, March 1964: Quico is a very naughty ch...</td>\n",
       "      <td>1977</td>\n",
       "      <td>Spain, March 1964: Quico naughty child three b...</td>\n",
       "    </tr>\n",
       "    <tr>\n",
       "      <th>3</th>\n",
       "      <td>Meu Amigo Hindu (2015)</td>\n",
       "      <td>drama</td>\n",
       "      <td>His father has died, he hasn't spoken with hi...</td>\n",
       "      <td>2015</td>\n",
       "      <td>father died, spoken brother 10 years serious c...</td>\n",
       "    </tr>\n",
       "    <tr>\n",
       "      <th>4</th>\n",
       "      <td>Er nu zhai (1955)</td>\n",
       "      <td>drama</td>\n",
       "      <td>Before he was known internationally as a mart...</td>\n",
       "      <td>1955</td>\n",
       "      <td>known internationally martial arts superstar, ...</td>\n",
       "    </tr>\n",
       "    <tr>\n",
       "      <th>5</th>\n",
       "      <td>Riddle Room (2016)</td>\n",
       "      <td>horror</td>\n",
       "      <td>Emily Burns is being held captive in a room w...</td>\n",
       "      <td>2016</td>\n",
       "      <td>Emily Burns held captive room idea there. Dete...</td>\n",
       "    </tr>\n",
       "  </tbody>\n",
       "</table>\n",
       "</div>"
      ],
      "text/plain": [
       "                        title     genre  \\\n",
       "0       Edgar's Lunch (1998)   thriller   \n",
       "1   La guerra de papá (1977)     comedy   \n",
       "3     Meu Amigo Hindu (2015)      drama   \n",
       "4          Er nu zhai (1955)      drama   \n",
       "5         Riddle Room (2016)     horror   \n",
       "\n",
       "                                         description  year  \\\n",
       "0   L.R. Brane loves his life - his car, his apar...  1998   \n",
       "1   Spain, March 1964: Quico is a very naughty ch...  1977   \n",
       "3   His father has died, he hasn't spoken with hi...  2015   \n",
       "4   Before he was known internationally as a mart...  1955   \n",
       "5   Emily Burns is being held captive in a room w...  2016   \n",
       "\n",
       "                                      description_pp  \n",
       "0  L.R. Brane loves - car, apartment, job, especi...  \n",
       "1  Spain, March 1964: Quico naughty child three b...  \n",
       "3  father died, spoken brother 10 years serious c...  \n",
       "4  known internationally martial arts superstar, ...  \n",
       "5  Emily Burns held captive room idea there. Dete...  "
      ]
     },
     "execution_count": 13,
     "metadata": {},
     "output_type": "execute_result"
    }
   ],
   "source": [
    "# Tokenize: Split the sentence into words\n",
    "docs = df_test['description_pp']\n",
    "\n",
    "lemmatizer = WordNetLemmatizer()\n",
    "docs = [[lemmatizer.lemmatize(token) for token in doc] for doc in docs]\n",
    "\n",
    "# Lemmatize list of words and join\n",
    "lemmatized_output = [''.join([lemmatizer.lemmatize(w) for w in doc]) for doc in docs]\n",
    "df_test['description_pp'] = lemmatized_output\n",
    "df_test.head()"
   ]
  },
  {
   "cell_type": "markdown",
   "id": "f2261344",
   "metadata": {
    "id": "f2261344"
   },
   "source": [
    "# Baseline"
   ]
  },
  {
   "cell_type": "markdown",
   "id": "q35ZKsHI4ocb",
   "metadata": {
    "id": "q35ZKsHI4ocb"
   },
   "source": [
    "## Random assignment based on frequency of genres in the training data"
   ]
  },
  {
   "cell_type": "markdown",
   "id": "XevdyuyV5hh0",
   "metadata": {
    "id": "XevdyuyV5hh0"
   },
   "source": [
    "Choose randomly among the genres and use the share of the genres in the training data set as probability that a specific genre is assigned"
   ]
  },
  {
   "cell_type": "code",
   "execution_count": 14,
   "id": "8dd4xRNb2g3c",
   "metadata": {
    "id": "8dd4xRNb2g3c"
   },
   "outputs": [],
   "source": [
    "genre_priors = df_train.genre.value_counts() / df_train.shape[0]\n",
    "genre_priors = pd.DataFrame(data={\"genre\":genre_priors.index, \"probability\": genre_priors.values})\n",
    "genre_priors = genre_priors.sort_values(\"genre\")"
   ]
  },
  {
   "cell_type": "code",
   "execution_count": 15,
   "id": "EvHcncJL2iL1",
   "metadata": {
    "id": "EvHcncJL2iL1"
   },
   "outputs": [],
   "source": [
    "# Predict genres for test data\n",
    "prior_predictions = np.random.choice(genre_priors.genre.values, size = df_test.shape[0], p = genre_priors.probability.values)\n",
    "df_test[\"prior_predictions\"] = prior_predictions"
   ]
  },
  {
   "cell_type": "code",
   "execution_count": 16,
   "id": "2NixmsPz5JUG",
   "metadata": {
    "colab": {
     "base_uri": "https://localhost:8080/"
    },
    "id": "2NixmsPz5JUG",
    "outputId": "d524c02e-3430-45e7-e5af-9f2f31ab41c6"
   },
   "outputs": [
    {
     "name": "stdout",
     "output_type": "stream",
     "text": [
      "F1:  0.3270937372375543\n",
      "Recall:  0.3271440884930326\n"
     ]
    }
   ],
   "source": [
    "# Evaluate prediction performance\n",
    "true_labels = df_test[\"genre\"]\n",
    "f1 = f1_score(true_labels, prior_predictions, average=\"weighted\")\n",
    "recall = recall_score(true_labels, prior_predictions, average=\"weighted\")\n",
    "\n",
    "print(\"F1: \",f1)\n",
    "print(\"Recall: \",recall)"
   ]
  },
  {
   "cell_type": "markdown",
   "id": "X9a_0ugM4sj8",
   "metadata": {
    "id": "X9a_0ugM4sj8"
   },
   "source": [
    "## Dictionary based prediction"
   ]
  },
  {
   "cell_type": "markdown",
   "id": "RloPAeaxGfFj",
   "metadata": {
    "id": "RloPAeaxGfFj"
   },
   "source": [
    "### Frequency (TF) dictionary\n",
    "\n",
    "Creating an dictionary using the 50 most frequent words per category."
   ]
  },
  {
   "cell_type": "code",
   "execution_count": 17,
   "id": "hEfQplLaGebO",
   "metadata": {
    "id": "hEfQplLaGebO"
   },
   "outputs": [],
   "source": [
    "terms_by_genre = {}\n",
    "\n",
    "# Iterrate over genres\n",
    "for genre in df_train['genre'].unique():\n",
    "\n",
    "    # Join descriptions of all movies for each genre\n",
    "    genre_df = df_train[df_train['genre'] == genre]\n",
    "    all_descriptions = ' '.join(genre_df['description_pp'])\n",
    "    all_words = all_descriptions.split()\n",
    "    word_counts = Counter(all_words)\n",
    "    sorted_words = sorted(word_counts.items(), key=lambda x: x[1], reverse=True)\n",
    "    top_words = [word for word, count in sorted_words[:50]]\n",
    "    terms_by_genre[genre] = top_words"
   ]
  },
  {
   "cell_type": "code",
   "execution_count": 18,
   "id": "o92tFGSEHudP",
   "metadata": {
    "colab": {
     "base_uri": "https://localhost:8080/"
    },
    "id": "o92tFGSEHudP",
    "outputId": "cab1e174-6dee-44fb-e4c7-8a3f1af9499a"
   },
   "outputs": [
    {
     "name": "stdout",
     "output_type": "stream",
     "text": [
      "Share of data which was labeled based on dictionary: 0.521\n",
      "Share of data randomly labled using prior distribution: 0.479\n"
     ]
    }
   ],
   "source": [
    "df_test[\"frequency_prediction\"] = dictionary_predictions(df_test, \"description_pp\", terms_by_genre, genre_priors)"
   ]
  },
  {
   "cell_type": "code",
   "execution_count": 19,
   "id": "Qk1ByRXqHuTz",
   "metadata": {
    "colab": {
     "base_uri": "https://localhost:8080/"
    },
    "id": "Qk1ByRXqHuTz",
    "outputId": "ad686450-eac5-4869-ecca-4e667f3d59bd"
   },
   "outputs": [
    {
     "name": "stdout",
     "output_type": "stream",
     "text": [
      "F1:  0.40960308989377336\n",
      "Recall:  0.39261600344778047\n"
     ]
    }
   ],
   "source": [
    "true_labels = df_test[\"genre\"]\n",
    "f1 = f1_score(true_labels, df_test[\"frequency_prediction\"], average=\"weighted\")\n",
    "recall = recall_score(true_labels, df_test[\"frequency_prediction\"], average=\"weighted\")\n",
    "\n",
    "print(\"F1: \",f1)\n",
    "print(\"Recall: \",recall)"
   ]
  },
  {
   "cell_type": "markdown",
   "id": "u7yY-xcxIJ7G",
   "metadata": {
    "id": "u7yY-xcxIJ7G"
   },
   "source": [
    "### TF-IDF dictionary"
   ]
  },
  {
   "cell_type": "code",
   "execution_count": 20,
   "id": "DWohGbfV_y3P",
   "metadata": {
    "id": "DWohGbfV_y3P"
   },
   "outputs": [],
   "source": [
    "# Create a dictionary with the most important words per genre \n",
    "genre_descriptions = df_train.groupby(['genre'])['description_pp'].apply(','.join).reset_index()\n",
    "important_dict_tfidf = create_tfidf_dict(genre_descriptions, 'description_pp', 'genre', 50)"
   ]
  },
  {
   "cell_type": "code",
   "execution_count": 21,
   "id": "y8dJIxAV59Q_",
   "metadata": {
    "colab": {
     "base_uri": "https://localhost:8080/"
    },
    "id": "y8dJIxAV59Q_",
    "outputId": "08e53bd2-07be-40f4-81da-b1259463c778"
   },
   "outputs": [
    {
     "name": "stdout",
     "output_type": "stream",
     "text": [
      "Share of data which was labeled based on dictionary: 0.303\n",
      "Share of data randomly labled using prior distribution: 0.697\n"
     ]
    }
   ],
   "source": [
    "df_test[\"tfidf_prediction\"] = dictionary_predictions(df_test, \"description_pp\", important_dict_tfidf, genre_priors)"
   ]
  },
  {
   "cell_type": "code",
   "execution_count": 22,
   "id": "GDJJxyGaBeSC",
   "metadata": {
    "colab": {
     "base_uri": "https://localhost:8080/"
    },
    "id": "GDJJxyGaBeSC",
    "outputId": "0255c381-ccaa-4229-a681-7aa1f0bcfd0a"
   },
   "outputs": [
    {
     "name": "stdout",
     "output_type": "stream",
     "text": [
      "F1:  0.4081381669716352\n",
      "Recall:  0.4013072834362879\n"
     ]
    }
   ],
   "source": [
    "# Evaluate prediction performance\n",
    "true_labels = df_test[\"genre\"]\n",
    "f1 = f1_score(true_labels, df_test[\"tfidf_prediction\"], average=\"weighted\")\n",
    "recall = recall_score(true_labels, df_test[\"tfidf_prediction\"], average=\"weighted\")\n",
    "\n",
    "print(\"F1: \",f1)\n",
    "print(\"Recall: \",recall)"
   ]
  },
  {
   "cell_type": "markdown",
   "id": "f2536653",
   "metadata": {
    "id": "f2536653"
   },
   "source": [
    "# GRU Network"
   ]
  },
  {
   "cell_type": "markdown",
   "id": "pecRt8Iwiho3",
   "metadata": {
    "id": "pecRt8Iwiho3"
   },
   "source": [
    "In this report we choose a Gated Recurrent Unit (GRU) neural network for our Recurrent Neural Network (RNN) model. GRU neural networks are designed to capture long-term dependencies in sequential data, they use two gate mechanisms to control the flow of information between the hidden states of the network.\n",
    "\n",
    "On one hand, there's the update gate which helps the model to determine how much of the past information (from previous time steps) needs to be passed along to the future. Finally there's also the reset gate which is used from the model to decide how much of the past information to forget. This allows them to selectively update or forget information from previous time steps, which helps prevent the vanishing gradient problem and allows them to better handle long-term dependencies.\n",
    "\n",
    "Additionally, we chose a GRU model because they are computationally efficient and have fewer parameters compared to other RNNs like Long Short-Term Memory (LSTM), making them a good choice when we have with limited computational resources."
   ]
  },
  {
   "cell_type": "code",
   "execution_count": 23,
   "id": "f55cecf9",
   "metadata": {
    "id": "f55cecf9",
    "outputId": "69f4b2e4-e47f-4351-cabf-1610deeca427"
   },
   "outputs": [],
   "source": [
    "# input and target columns\n",
    "X_train = df_train[\"description_pp\"].values\n",
    "y_train = pd.get_dummies(df_train[\"genre\"]).values\n",
    "\n",
    "X_test = df_test[\"description_pp\"].values\n",
    "y_test = pd.get_dummies(df_test[\"genre\"]).values\n",
    "\n",
    "# find the maximum length of the descriptions or 1200\n",
    "maxlen = min(max(len(description) for description in X_train), 1200)"
   ]
  },
  {
   "cell_type": "code",
   "execution_count": 24,
   "id": "707c29bc",
   "metadata": {
    "id": "707c29bc"
   },
   "outputs": [],
   "source": [
    "# tokenize the input text\n",
    "tokenizer = Tokenizer(num_words=10000)\n",
    "tokenizer.fit_on_texts(X_train)\n",
    "X_train = tokenizer.texts_to_sequences(X_train)\n",
    "X_train = pad_sequences(X_train, maxlen=maxlen)\n",
    "X_test = tokenizer.texts_to_sequences(X_test)\n",
    "X_test = pad_sequences(X_test, maxlen=maxlen)"
   ]
  },
  {
   "cell_type": "code",
   "execution_count": 25,
   "id": "3890d555",
   "metadata": {},
   "outputs": [
    {
     "data": {
      "text/plain": [
       "True"
      ]
     },
     "execution_count": 25,
     "metadata": {},
     "output_type": "execute_result"
    }
   ],
   "source": [
    "os.path.isdir('bidir_gru_model')"
   ]
  },
  {
   "cell_type": "markdown",
   "id": "f1bWJDnCis0b",
   "metadata": {
    "id": "f1bWJDnCis0b"
   },
   "source": [
    "In our case we will build a one bidirectional layer GRU neural network, with a final softmax layer to choose over the 7 possible final classes."
   ]
  },
  {
   "cell_type": "code",
   "execution_count": 26,
   "id": "2230c1d2",
   "metadata": {
    "colab": {
     "base_uri": "https://localhost:8080/",
     "height": 399
    },
    "id": "2230c1d2",
    "outputId": "9c080479-55d1-48d4-b01e-58fab844e017"
   },
   "outputs": [
    {
     "name": "stderr",
     "output_type": "stream",
     "text": [
      "2023-03-30 22:27:46.041277: I tensorflow/compiler/xla/stream_executor/cuda/cuda_gpu_executor.cc:981] successful NUMA node read from SysFS had negative value (-1), but there must be at least one NUMA node, so returning NUMA node zero\n",
      "2023-03-30 22:27:46.041549: W tensorflow/compiler/xla/stream_executor/platform/default/dso_loader.cc:64] Could not load dynamic library 'libcudart.so.11.0'; dlerror: libcudart.so.11.0: cannot open shared object file: No such file or directory; LD_LIBRARY_PATH: :/opt/gurobi952/linux64/lib\n",
      "2023-03-30 22:27:46.041614: W tensorflow/compiler/xla/stream_executor/platform/default/dso_loader.cc:64] Could not load dynamic library 'libcublas.so.11'; dlerror: libcublas.so.11: cannot open shared object file: No such file or directory; LD_LIBRARY_PATH: :/opt/gurobi952/linux64/lib\n",
      "2023-03-30 22:27:46.041659: W tensorflow/compiler/xla/stream_executor/platform/default/dso_loader.cc:64] Could not load dynamic library 'libcublasLt.so.11'; dlerror: libcublasLt.so.11: cannot open shared object file: No such file or directory; LD_LIBRARY_PATH: :/opt/gurobi952/linux64/lib\n",
      "2023-03-30 22:27:46.041704: W tensorflow/compiler/xla/stream_executor/platform/default/dso_loader.cc:64] Could not load dynamic library 'libcufft.so.10'; dlerror: libcufft.so.10: cannot open shared object file: No such file or directory; LD_LIBRARY_PATH: :/opt/gurobi952/linux64/lib\n",
      "2023-03-30 22:27:46.042273: W tensorflow/compiler/xla/stream_executor/platform/default/dso_loader.cc:64] Could not load dynamic library 'libcusparse.so.11'; dlerror: libcusparse.so.11: cannot open shared object file: No such file or directory; LD_LIBRARY_PATH: :/opt/gurobi952/linux64/lib\n",
      "2023-03-30 22:27:46.042311: W tensorflow/core/common_runtime/gpu/gpu_device.cc:1934] Cannot dlopen some GPU libraries. Please make sure the missing libraries mentioned above are installed properly if you would like to use GPU. Follow the guide at https://www.tensorflow.org/install/gpu for how to download and setup the required libraries for your platform.\n",
      "Skipping registering GPU devices...\n",
      "2023-03-30 22:27:46.042562: I tensorflow/core/platform/cpu_feature_guard.cc:193] This TensorFlow binary is optimized with oneAPI Deep Neural Network Library (oneDNN) to use the following CPU instructions in performance-critical operations:  AVX2 FMA\n",
      "To enable them in other operations, rebuild TensorFlow with the appropriate compiler flags.\n"
     ]
    }
   ],
   "source": [
    "if os.path.isdir('bidir_gru_model'):\n",
    "    \n",
    "    model = keras.models.load_model('bidir_gru_model')\n",
    "    \n",
    "else:\n",
    "        \n",
    "    # define the model architecture\n",
    "    model = Sequential()\n",
    "    model.add(Embedding(10000, 64, input_length=maxlen))\n",
    "    model.add(Bidirectional(GRU(64, dropout=0.12)))\n",
    "    model.add(Dense(7, activation=\"softmax\"))\n",
    "\n",
    "    # compile the model\n",
    "    model.compile(loss=\"categorical_crossentropy\",\n",
    "                  optimizer=\"adam\",\n",
    "                  metrics=[\"accuracy\"])\n",
    "    \n",
    "    # train the model\n",
    "    model.fit(X_train, y_train, epochs=16, batch_size=32, validation_split=0.2)\n",
    "    \n",
    "    model.save('bidir_gru_model')"
   ]
  },
  {
   "cell_type": "markdown",
   "id": "182f57a1",
   "metadata": {},
   "source": [
    "We can observe a significant improvement over the baseline model with 0.633 and 0.635 values for f1 and recall scores respectively,"
   ]
  },
  {
   "cell_type": "code",
   "execution_count": 27,
   "id": "5f704335",
   "metadata": {
    "id": "5f704335"
   },
   "outputs": [
    {
     "name": "stdout",
     "output_type": "stream",
     "text": [
      "871/871 [==============================] - 49s 55ms/step\n",
      "F1 score: 0.6333757062431329\n",
      "Recall score: 0.6356845280850453\n"
     ]
    }
   ],
   "source": [
    "# evaluate the model on the test set\n",
    "y_pred = model.predict(X_test)\n",
    "y_pred = y_pred.argmax(axis=1)\n",
    "y_true = y_test.argmax(axis=1)\n",
    "f1 = f1_score(y_true, y_pred, average=\"weighted\")\n",
    "recall = recall_score(y_true, y_pred, average=\"weighted\")\n",
    "print(\"F1 score:\", f1)\n",
    "print(\"Recall score:\", recall)"
   ]
  },
  {
   "cell_type": "code",
   "execution_count": 28,
   "id": "0ab0330a",
   "metadata": {},
   "outputs": [],
   "source": [
    "df_test[\"gru_prediction\"] = y_pred"
   ]
  },
  {
   "cell_type": "markdown",
   "id": "7679c303",
   "metadata": {
    "id": "36528881"
   },
   "source": [
    "While GRU neural networks are effective in capturing long-term dependencies in sequential data, they also have some limitations. One of them is that they can struggle with handling very long sequences due to the limited memory capacity of the network. In addition, GRUs may not be the best choice for tasks that require explicit modeling of temporal dynamics, as they do not have explicit memory units like LSTMs have. Finally, GRUs can be prone to overfitting if the training data is limited or noisy, and may require additional regularization techniques to address this issue."
   ]
  },
  {
   "cell_type": "markdown",
   "id": "1fa4b775",
   "metadata": {},
   "source": [
    "# LSTM Network\n",
    "\n",
    "To compare we also build an equivalent Long Short-Term Memory (LSTM) neural network. LSTMs, like GRUs, are designed to capture long-term dependencies in sequential data. However, unlike GRUs, they use three gate mechanisms instead of 2 to control the flow of information between the hidden states of the network.\n",
    "\n",
    "The forget gate is used to decide how much of the past information to forget, while the input gate is used to decide how much of the current input to keep. Finally, the output gate determines the amount of output to be produced. This allows LSTMs to selectively update or forget information from previous time steps, which helps prevent the vanishing gradient problem and allows them to better handle long-term dependencies."
   ]
  },
  {
   "cell_type": "code",
   "execution_count": 29,
   "id": "34cb0cf7",
   "metadata": {},
   "outputs": [],
   "source": [
    "if os.path.isdir('bidir_lstm_model'):\n",
    "    \n",
    "    model_lstm = keras.models.load_model('bidir_lstm_model')\n",
    "    \n",
    "else:\n",
    "        \n",
    "    # define the model architecture\n",
    "    model_lstm = Sequential()\n",
    "    model_lstm.add(Embedding(10000, 64, input_length=maxlen))\n",
    "    model_lstm.add(Bidirectional(LSTM(64, dropout=0.12)))\n",
    "    model_lstm.add(Dense(7, activation=\"softmax\"))\n",
    "\n",
    "    # compile the model\n",
    "    model_lstm.compile(loss=\"categorical_crossentropy\",\n",
    "                  optimizer=\"adam\",\n",
    "                  metrics=[\"accuracy\"])\n",
    "    \n",
    "    # train the model\n",
    "    model_lstm.fit(X_train, y_train, epochs=14,batch_size=32, validation_split=0.2)\n",
    "    \n",
    "    model_lstm.save('bidir_lstm_model')"
   ]
  },
  {
   "cell_type": "markdown",
   "id": "c5f31980",
   "metadata": {},
   "source": [
    "We can see how as expected, the LSTM took longer to finish each epoch (204s for LSTM vs 186s for GRU) and also was more resource intensive in terms of RAM. The obtained f1 and recall results are equivalent although we see they are slightly better for LSTM, one of the reasons would be that LSTM has an explicit memory gate unit which makes the model slightly more complex to handle the text classification problem at hand. Also our sequences can be quite long (up to 1200 elements) so LSTM is a little better suited for those long sequences."
   ]
  },
  {
   "cell_type": "code",
   "execution_count": 30,
   "id": "787b054e",
   "metadata": {},
   "outputs": [
    {
     "name": "stdout",
     "output_type": "stream",
     "text": [
      "871/871 [==============================] - 64s 73ms/step\n",
      "F1 score: 0.6424811655255757\n",
      "Recall score: 0.6468539003016808\n"
     ]
    }
   ],
   "source": [
    "# evaluate the model on the test set\n",
    "y_pred = model_lstm.predict(X_test)\n",
    "y_pred = y_pred.argmax(axis=1)\n",
    "y_true = y_test.argmax(axis=1)\n",
    "f1 = f1_score(y_true, y_pred, average=\"weighted\")\n",
    "recall = recall_score(y_true, y_pred, average=\"weighted\")\n",
    "print(\"F1 score:\", f1)\n",
    "print(\"Recall score:\", recall)"
   ]
  },
  {
   "cell_type": "code",
   "execution_count": 43,
   "id": "734e652f",
   "metadata": {},
   "outputs": [],
   "source": [
    "df_test[\"lstm_prediction\"] = y_pred"
   ]
  },
  {
   "cell_type": "code",
   "execution_count": null,
   "id": "41483c81",
   "metadata": {},
   "outputs": [],
   "source": [
    "df_test.to_csv(\"test_predictions.csv\")  "
   ]
  },
  {
   "cell_type": "markdown",
   "id": "6d05edf4",
   "metadata": {},
   "source": [
    "# Confusion Matrices"
   ]
  },
  {
   "cell_type": "code",
   "execution_count": 9,
   "id": "feddb2dc",
   "metadata": {},
   "outputs": [
    {
     "data": {
      "text/html": [
       "<div>\n",
       "<style scoped>\n",
       "    .dataframe tbody tr th:only-of-type {\n",
       "        vertical-align: middle;\n",
       "    }\n",
       "\n",
       "    .dataframe tbody tr th {\n",
       "        vertical-align: top;\n",
       "    }\n",
       "\n",
       "    .dataframe thead th {\n",
       "        text-align: right;\n",
       "    }\n",
       "</style>\n",
       "<table border=\"1\" class=\"dataframe\">\n",
       "  <thead>\n",
       "    <tr style=\"text-align: right;\">\n",
       "      <th></th>\n",
       "      <th>Unnamed: 0</th>\n",
       "      <th>title</th>\n",
       "      <th>genre</th>\n",
       "      <th>description</th>\n",
       "      <th>year</th>\n",
       "      <th>description_pp</th>\n",
       "      <th>prior_predictions</th>\n",
       "      <th>frequency_prediction</th>\n",
       "      <th>tfidf_prediction</th>\n",
       "      <th>gru_prediction</th>\n",
       "      <th>lstm_prediction</th>\n",
       "    </tr>\n",
       "  </thead>\n",
       "  <tbody>\n",
       "    <tr>\n",
       "      <th>0</th>\n",
       "      <td>0</td>\n",
       "      <td>Edgar's Lunch (1998)</td>\n",
       "      <td>thriller</td>\n",
       "      <td>L.R. Brane loves his life - his car, his apar...</td>\n",
       "      <td>1998</td>\n",
       "      <td>L.R. Brane loves - car, apartment, job, especi...</td>\n",
       "      <td>drama</td>\n",
       "      <td>horror</td>\n",
       "      <td>drama</td>\n",
       "      <td>thriller</td>\n",
       "      <td>drama</td>\n",
       "    </tr>\n",
       "    <tr>\n",
       "      <th>1</th>\n",
       "      <td>1</td>\n",
       "      <td>La guerra de papá (1977)</td>\n",
       "      <td>comedy</td>\n",
       "      <td>Spain, March 1964: Quico is a very naughty ch...</td>\n",
       "      <td>1977</td>\n",
       "      <td>Spain, March 1964: Quico naughty child three b...</td>\n",
       "      <td>comedy</td>\n",
       "      <td>drama</td>\n",
       "      <td>drama</td>\n",
       "      <td>drama</td>\n",
       "      <td>drama</td>\n",
       "    </tr>\n",
       "    <tr>\n",
       "      <th>2</th>\n",
       "      <td>3</td>\n",
       "      <td>Meu Amigo Hindu (2015)</td>\n",
       "      <td>drama</td>\n",
       "      <td>His father has died, he hasn't spoken with hi...</td>\n",
       "      <td>2015</td>\n",
       "      <td>father died, spoken brother 10 years serious c...</td>\n",
       "      <td>drama</td>\n",
       "      <td>comedy</td>\n",
       "      <td>drama</td>\n",
       "      <td>drama</td>\n",
       "      <td>drama</td>\n",
       "    </tr>\n",
       "    <tr>\n",
       "      <th>3</th>\n",
       "      <td>4</td>\n",
       "      <td>Er nu zhai (1955)</td>\n",
       "      <td>drama</td>\n",
       "      <td>Before he was known internationally as a mart...</td>\n",
       "      <td>1955</td>\n",
       "      <td>known internationally martial arts superstar, ...</td>\n",
       "      <td>comedy</td>\n",
       "      <td>drama</td>\n",
       "      <td>comedy</td>\n",
       "      <td>drama</td>\n",
       "      <td>drama</td>\n",
       "    </tr>\n",
       "    <tr>\n",
       "      <th>4</th>\n",
       "      <td>5</td>\n",
       "      <td>Riddle Room (2016)</td>\n",
       "      <td>horror</td>\n",
       "      <td>Emily Burns is being held captive in a room w...</td>\n",
       "      <td>2016</td>\n",
       "      <td>Emily Burns held captive room idea there. Dete...</td>\n",
       "      <td>drama</td>\n",
       "      <td>thriller</td>\n",
       "      <td>horror</td>\n",
       "      <td>comedy</td>\n",
       "      <td>comedy</td>\n",
       "    </tr>\n",
       "  </tbody>\n",
       "</table>\n",
       "</div>"
      ],
      "text/plain": [
       "   Unnamed: 0                       title     genre  \\\n",
       "0           0       Edgar's Lunch (1998)   thriller   \n",
       "1           1   La guerra de papá (1977)     comedy   \n",
       "2           3     Meu Amigo Hindu (2015)      drama   \n",
       "3           4          Er nu zhai (1955)      drama   \n",
       "4           5         Riddle Room (2016)     horror   \n",
       "\n",
       "                                         description  year  \\\n",
       "0   L.R. Brane loves his life - his car, his apar...  1998   \n",
       "1   Spain, March 1964: Quico is a very naughty ch...  1977   \n",
       "2   His father has died, he hasn't spoken with hi...  2015   \n",
       "3   Before he was known internationally as a mart...  1955   \n",
       "4   Emily Burns is being held captive in a room w...  2016   \n",
       "\n",
       "                                      description_pp prior_predictions  \\\n",
       "0  L.R. Brane loves - car, apartment, job, especi...             drama   \n",
       "1  Spain, March 1964: Quico naughty child three b...            comedy   \n",
       "2  father died, spoken brother 10 years serious c...             drama   \n",
       "3  known internationally martial arts superstar, ...            comedy   \n",
       "4  Emily Burns held captive room idea there. Dete...             drama   \n",
       "\n",
       "  frequency_prediction tfidf_prediction gru_prediction lstm_prediction  \n",
       "0               horror            drama       thriller           drama  \n",
       "1                drama            drama          drama           drama  \n",
       "2               comedy            drama          drama           drama  \n",
       "3                drama           comedy          drama           drama  \n",
       "4             thriller           horror         comedy          comedy  "
      ]
     },
     "execution_count": 9,
     "metadata": {},
     "output_type": "execute_result"
    }
   ],
   "source": [
    "# Load Test DF with all predictions\n",
    "df_test = pd.read_csv('/Users/Miguel/Desktop/BSE/Term2/Advanced NLP/Advanced_NLP_Project/test_predictions.csv')\n",
    "cat_mapper = {0:'action', 1:'comedy', 2:'drama', 3:'horror', 4:'sci-fi', 5:'thriller', 6:'western'}\n",
    "df_test['gru_prediction'] = df_test['gru_prediction'].map(cat_mapper)\n",
    "df_test['lstm_prediction'] = df_test['lstm_prediction'].map(cat_mapper)\n",
    "\n",
    "\n",
    "labs = list(cat_mapper.values())\n",
    "df_test.head()"
   ]
  },
  {
   "cell_type": "markdown",
   "id": "23d4aa95",
   "metadata": {},
   "source": [
    "### Baseline"
   ]
  },
  {
   "cell_type": "markdown",
   "id": "268634ae",
   "metadata": {},
   "source": [
    "Our best baseline model, using the weighted F-1 score, is the TF dictionary. So let's take a look at the confusion matrix and error metrics for these predictions."
   ]
  },
  {
   "cell_type": "code",
   "execution_count": 10,
   "id": "7b1249a6",
   "metadata": {},
   "outputs": [
    {
     "data": {
      "image/png": "[encoded data removed]",
      "text/plain": [
       "<Figure size 640x480 with 2 Axes>"
      ]
     },
     "metadata": {},
     "output_type": "display_data"
    }
   ],
   "source": [
    "cm = confusion_matrix(df_test['genre'], df_test['frequency_prediction'], labels=labs)\n",
    "disp = ConfusionMatrixDisplay(confusion_matrix=cm, display_labels=labs)\n",
    "disp.plot()\n",
    "plt.show()"
   ]
  },
  {
   "cell_type": "code",
   "execution_count": 16,
   "id": "f543ce2c",
   "metadata": {},
   "outputs": [
    {
     "name": "stdout",
     "output_type": "stream",
     "text": [
      "              precision    recall  f1-score   support\n",
      "\n",
      "      action      0.141     0.228     0.174      1314\n",
      "      comedy      0.386     0.365     0.375      7446\n",
      "       drama      0.584     0.456     0.512     13612\n",
      "      horror      0.241     0.284     0.261      2204\n",
      "      sci-fi      0.164     0.415     0.235       646\n",
      "    thriller      0.117     0.183     0.143      1590\n",
      "     western      0.392     0.505     0.441      1032\n",
      "\n",
      "    accuracy                          0.393     27844\n",
      "   macro avg      0.289     0.348     0.306     27844\n",
      "weighted avg      0.440     0.393     0.410     27844\n",
      "\n"
     ]
    }
   ],
   "source": [
    "# Print the precision and recall, among other metrics\n",
    "print(metrics.classification_report(df_test['genre'], df_test['frequency_prediction'], digits=3))"
   ]
  },
  {
   "cell_type": "markdown",
   "id": "a849c4f3",
   "metadata": {},
   "source": [
    "### RNN (LSTM)"
   ]
  },
  {
   "cell_type": "code",
   "execution_count": 17,
   "id": "ee8a04de",
   "metadata": {},
   "outputs": [
    {
     "data": {
      "image/png": "[encoded data removed]",
      "text/plain": [
       "<Figure size 640x480 with 2 Axes>"
      ]
     },
     "metadata": {},
     "output_type": "display_data"
    },
    {
     "name": "stdout",
     "output_type": "stream",
     "text": [
      "              precision    recall  f1-score   support\n",
      "\n",
      "      action      0.353     0.335     0.344      1314\n",
      "      comedy      0.609     0.649     0.628      7446\n",
      "       drama      0.728     0.745     0.736     13612\n",
      "      horror      0.618     0.584     0.601      2204\n",
      "      sci-fi      0.476     0.378     0.421       646\n",
      "    thriller      0.261     0.193     0.222      1590\n",
      "     western      0.786     0.743     0.764      1032\n",
      "\n",
      "    accuracy                          0.647     27844\n",
      "   macro avg      0.547     0.518     0.531     27844\n",
      "weighted avg      0.640     0.647     0.642     27844\n",
      "\n"
     ]
    }
   ],
   "source": [
    "cm = confusion_matrix(df_test['genre'], df_test['lstm_prediction'], labels=labs)\n",
    "disp = ConfusionMatrixDisplay(confusion_matrix=cm, display_labels=labs)\n",
    "disp.plot()\n",
    "plt.show()\n",
    "\n",
    "# Print the precision and recall, among other metrics\n",
    "print(metrics.classification_report(df_test['genre'], df_test['lstm_prediction'], digits=3))"
   ]
  },
  {
   "cell_type": "markdown",
   "id": "c068afee",
   "metadata": {},
   "source": [
    "# Biases"
   ]
  },
  {
   "cell_type": "markdown",
   "id": "2538a387",
   "metadata": {},
   "source": [
    "What are potential biases of our model? Some ideas we had were:\n",
    "* Perhaps the year a movie came out affects classification accuracy? Are older movies classified worse? (Not really.)\n",
    "* Does length of description affect classification accuracy? (A little.)"
   ]
  },
  {
   "cell_type": "markdown",
   "id": "9268a922",
   "metadata": {},
   "source": [
    "## Year"
   ]
  },
  {
   "cell_type": "code",
   "execution_count": 18,
   "id": "59776b94",
   "metadata": {},
   "outputs": [
    {
     "data": {
      "image/png": "[encoded data removed]",
      "text/plain": [
       "<Figure size 640x480 with 1 Axes>"
      ]
     },
     "metadata": {},
     "output_type": "display_data"
    },
    {
     "data": {
      "text/plain": [
       "0.25    1982.0\n",
       "0.50    2005.0\n",
       "0.75    2013.0\n",
       "Name: year, dtype: float64"
      ]
     },
     "execution_count": 18,
     "metadata": {},
     "output_type": "execute_result"
    }
   ],
   "source": [
    "# There are a few movies for which we don't have the year. Remove these.\n",
    "yrdf = df_test.loc[~(df_test['year'] == 0)]\n",
    "\n",
    "# Plot a histogram of movies over time.\n",
    "plt.hist(yrdf['year'], bins=20)\n",
    "plt.show()\n",
    "\n",
    "yrdf.year.quantile([0.25,0.5,0.75])"
   ]
  },
  {
   "cell_type": "code",
   "execution_count": 19,
   "id": "5406f987",
   "metadata": {},
   "outputs": [],
   "source": [
    "yrdf1 = df_test.loc[(1900 < df_test['year']) & (df_test['year'] < 1982)]\n",
    "yrdf2 = df_test.loc[(2005 > df_test['year']) & (df_test['year'] >= 1982)]\n",
    "yrdf3 = df_test.loc[(2013 > df_test['year']) & (df_test['year'] >= 2005)]\n",
    "yrdf4 = df_test.loc[(df_test['year'] >= 2013)]"
   ]
  },
  {
   "cell_type": "markdown",
   "id": "67ab45e6",
   "metadata": {},
   "source": [
    "### TF"
   ]
  },
  {
   "cell_type": "code",
   "execution_count": 20,
   "id": "85efae49",
   "metadata": {},
   "outputs": [
    {
     "name": "stdout",
     "output_type": "stream",
     "text": [
      "Weighted F-1 score for movies that came out:\n",
      "before 1982: 0.449 \n",
      "1982-2005:   0.421 \n",
      "2005-2013:   0.42 \n",
      "after 2013:  0.399\n"
     ]
    }
   ],
   "source": [
    "f11 = round(f1_score(yrdf1['genre'], yrdf1['frequency_prediction'], average=\"weighted\"),3)\n",
    "f12 = round(f1_score(yrdf2['genre'], yrdf2['frequency_prediction'], average=\"weighted\"),3)\n",
    "f13 = round(f1_score(yrdf3['genre'], yrdf3['frequency_prediction'], average=\"weighted\"),3)\n",
    "f14 = round(f1_score(yrdf4['genre'], yrdf4['frequency_prediction'], average=\"weighted\"),3)\n",
    "print('Weighted F-1 score for movies that came out:\\nbefore 1982:', f11, \n",
    "      '\\n1982-2005:  ',f12, \n",
    "      '\\n2005-2013:  ',f13, \n",
    "      '\\nafter 2013: ',f14)"
   ]
  },
  {
   "cell_type": "markdown",
   "id": "9676ded1",
   "metadata": {},
   "source": [
    "### LSTM"
   ]
  },
  {
   "cell_type": "code",
   "execution_count": 21,
   "id": "718e378e",
   "metadata": {},
   "outputs": [
    {
     "name": "stdout",
     "output_type": "stream",
     "text": [
      "Weighted F-1 score for movies that came out:\n",
      "before 1982: 0.687 \n",
      "1982-2005:   0.638 \n",
      "2005-2013:   0.652 \n",
      "after 2013:  0.63\n"
     ]
    }
   ],
   "source": [
    "f11 = round(f1_score(yrdf1['genre'], yrdf1['lstm_prediction'], average=\"weighted\"),3)\n",
    "f12 = round(f1_score(yrdf2['genre'], yrdf2['lstm_prediction'], average=\"weighted\"),3)\n",
    "f13 = round(f1_score(yrdf3['genre'], yrdf3['lstm_prediction'], average=\"weighted\"),3)\n",
    "f14 = round(f1_score(yrdf4['genre'], yrdf4['lstm_prediction'], average=\"weighted\"),3)\n",
    "print('Weighted F-1 score for movies that came out:\\nbefore 1982:', f11, \n",
    "      '\\n1982-2005:  ',f12, \n",
    "      '\\n2005-2013:  ',f13, \n",
    "      '\\nafter 2013: ',f14)"
   ]
  },
  {
   "cell_type": "markdown",
   "id": "9bb90bf7",
   "metadata": {},
   "source": [
    "## Length of Description"
   ]
  },
  {
   "cell_type": "code",
   "execution_count": 23,
   "id": "1357d7fa",
   "metadata": {},
   "outputs": [
    {
     "data": {
      "image/png": "[encoded data removed]",
      "text/plain": [
       "<Figure size 640x480 with 1 Axes>"
      ]
     },
     "metadata": {},
     "output_type": "display_data"
    }
   ],
   "source": [
    "df_test['desc_len'] = [len(x) for x in df_test['description_pp']]\n",
    "df_test.desc_len.quantile([0.25,0.5,0.75])\n",
    "\n",
    "lendf1 = df_test.loc[(df_test['desc_len'] < 221)]\n",
    "lendf2 = df_test.loc[(316 > df_test['desc_len']) & (df_test['desc_len'] >= 221)]\n",
    "lendf3 = df_test.loc[(488 > df_test['desc_len']) & (df_test['desc_len'] >= 316)]\n",
    "lendf4 = df_test.loc[(df_test['desc_len'] >= 488)]\n",
    "\n",
    "\n",
    "# Plot a histogram of description lengths.\n",
    "plt.hist(df_test['desc_len'], bins=10)\n",
    "plt.show()"
   ]
  },
  {
   "cell_type": "markdown",
   "id": "83df5257",
   "metadata": {},
   "source": [
    "### TF"
   ]
  },
  {
   "cell_type": "code",
   "execution_count": 24,
   "id": "c547de26",
   "metadata": {},
   "outputs": [
    {
     "name": "stdout",
     "output_type": "stream",
     "text": [
      "Weighted F-1 score by length of description (# of characters):\n",
      "0-221:    0.377 \n",
      "250-316:  0.39 \n",
      "316-448:  0.412 \n",
      "448-2500: 0.461\n"
     ]
    }
   ],
   "source": [
    "f11 = round(f1_score(lendf1['genre'], lendf1['frequency_prediction'], average=\"weighted\"),3)\n",
    "f12 = round(f1_score(lendf2['genre'], lendf2['frequency_prediction'], average=\"weighted\"),3)\n",
    "f13 = round(f1_score(lendf3['genre'], lendf3['frequency_prediction'], average=\"weighted\"),3)\n",
    "f14 = round(f1_score(lendf4['genre'], lendf4['frequency_prediction'], average=\"weighted\"),3)\n",
    "print('Weighted F-1 score by length of description (# of characters):\\n0-221:   ', f11, \n",
    "      '\\n250-316: ',f12, \n",
    "      '\\n316-448: ',f13, \n",
    "      '\\n448-2500:',f14)"
   ]
  },
  {
   "cell_type": "markdown",
   "id": "220a9b9e",
   "metadata": {},
   "source": [
    "### LSTM"
   ]
  },
  {
   "cell_type": "code",
   "execution_count": 25,
   "id": "78c05071",
   "metadata": {},
   "outputs": [
    {
     "name": "stdout",
     "output_type": "stream",
     "text": [
      "Weighted F-1 score by length of description (# of characters):\n",
      "0-221:    0.604 \n",
      "250-316:  0.635 \n",
      "316-448:  0.653 \n",
      "448-2000: 0.676\n"
     ]
    }
   ],
   "source": [
    "f11 = round(f1_score(lendf1['genre'], lendf1['lstm_prediction'], average=\"weighted\"),3)\n",
    "f12 = round(f1_score(lendf2['genre'], lendf2['lstm_prediction'], average=\"weighted\"),3)\n",
    "f13 = round(f1_score(lendf3['genre'], lendf3['lstm_prediction'], average=\"weighted\"),3)\n",
    "f14 = round(f1_score(lendf4['genre'], lendf4['lstm_prediction'], average=\"weighted\"),3)\n",
    "print('Weighted F-1 score by length of description (# of characters):\\n0-221:   ', f11, \n",
    "      '\\n250-316: ',f12, \n",
    "      '\\n316-448: ',f13, \n",
    "      '\\n448-2000:',f14)"
   ]
  },
  {
   "cell_type": "markdown",
   "id": "05f15c4e",
   "metadata": {},
   "source": [
    "### GRU"
   ]
  },
  {
   "cell_type": "code",
   "execution_count": 26,
   "id": "7c79f0cd",
   "metadata": {},
   "outputs": [
    {
     "name": "stdout",
     "output_type": "stream",
     "text": [
      "Weighted F-1 score by length of description (# of characters):\n",
      "0-221:    0.599 \n",
      "250-316:  0.625 \n",
      "316-448:  0.646 \n",
      "448-2500: 0.662\n"
     ]
    }
   ],
   "source": [
    "f11 = round(f1_score(lendf1['genre'], lendf1['gru_prediction'], average=\"weighted\"),3)\n",
    "f12 = round(f1_score(lendf2['genre'], lendf2['gru_prediction'], average=\"weighted\"),3)\n",
    "f13 = round(f1_score(lendf3['genre'], lendf3['gru_prediction'], average=\"weighted\"),3)\n",
    "f14 = round(f1_score(lendf4['genre'], lendf4['gru_prediction'], average=\"weighted\"),3)\n",
    "print('Weighted F-1 score by length of description (# of characters):\\n0-221:   ', f11, \n",
    "      '\\n250-316: ',f12, \n",
    "      '\\n316-448: ',f13, \n",
    "      '\\n448-2500:',f14)"
   ]
  }
 ],
 "metadata": {
  "colab": {
   "provenance": []
  },
  "kernelspec": {
   "display_name": "Python 3 (ipykernel)",
   "language": "python",
   "name": "python3"
  },
  "language_info": {
   "codemirror_mode": {
    "name": "ipython",
    "version": 3
   },
   "file_extension": ".py",
   "mimetype": "text/x-python",
   "name": "python",
   "nbconvert_exporter": "python",
   "pygments_lexer": "ipython3",
   "version": "3.10.5"
  }
 },
 "nbformat": 4,
 "nbformat_minor": 5
}
