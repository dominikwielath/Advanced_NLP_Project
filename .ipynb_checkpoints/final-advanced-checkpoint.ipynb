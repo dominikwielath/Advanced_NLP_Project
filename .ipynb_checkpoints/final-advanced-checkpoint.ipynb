{
 "cells": [
  {
   "cell_type": "code",
   "execution_count": 20,
   "id": "db6e9a56",
   "metadata": {
    "colab": {
     "base_uri": "https://localhost:8080/"
    },
    "id": "db6e9a56",
    "outputId": "30bc288b-acbc-46e9-b9f6-3afb952e48da"
   },
   "outputs": [
    {
     "name": "stderr",
     "output_type": "stream",
     "text": [
      "[nltk_data] Downloading package stopwords to\n",
      "[nltk_data]     /home/davovapo/nltk_data...\n",
      "[nltk_data]   Package stopwords is already up-to-date!\n",
      "[nltk_data] Downloading package wordnet to /home/davovapo/nltk_data...\n",
      "[nltk_data]   Package wordnet is already up-to-date!\n"
     ]
    }
   ],
   "source": [
    "import os\n",
    "import pandas as pd\n",
    "import matplotlib.pyplot as plt\n",
    "import numpy as np\n",
    "import torch\n",
    "\n",
    "from collections import Counter\n",
    "\n",
    "# Natural language Toolkit\n",
    "import nltk\n",
    "nltk.download('stopwords')\n",
    "nltk.download('wordnet')\n",
    "\n",
    "from nltk.stem import SnowballStemmer                                   # Porter's II Stemmer\n",
    "from nltk import word_tokenize                                          # Document tokenizer\n",
    "from nltk.corpus import stopwords \n",
    "from nltk.stem.wordnet import WordNetLemmatizer\n",
    "\n",
    "from sklearn.metrics import f1_score, recall_score\n",
    "from sklearn.feature_extraction.text import TfidfVectorizer\n",
    "\n",
    "import tensorflow as tf\n",
    "import tensorflow.keras as keras\n",
    "from tensorflow.keras.layers import GRU, Dense, Embedding, Dropout, Bidirectional\n",
    "from tensorflow.keras.models import Sequential\n",
    "from tensorflow.keras.preprocessing.text import Tokenizer\n",
    "from tensorflow.keras.preprocessing.sequence import pad_sequences"
   ]
  },
  {
   "cell_type": "markdown",
   "id": "df6a3626",
   "metadata": {
    "id": "df6a3626"
   },
   "source": [
    "# Load Data"
   ]
  },
  {
   "cell_type": "code",
   "execution_count": 2,
   "id": "BSauhdxYujWv",
   "metadata": {
    "id": "BSauhdxYujWv"
   },
   "outputs": [],
   "source": [
    "# Set directory\n",
    "directory_david = '/run/media/david-vp/davidvp-files/DSMMaster/advanced-nlp/final-proj/Genre Classification Dataset/'\n",
    "directory_david2 = '/run/media/davovapo/hdd1-dvp/DSMMaster/advanced-nlp/Advanced_NLP_Project/Genre Classification Dataset/'\n",
    "directory_miguel ='/Users/Miguel/Desktop/BSE/Term2/Advanced NLP/Advanced_NLP_Project/Genre Classification Dataset/'\n",
    "directory_dominik = ''\n",
    "\n",
    "directory = directory_david2"
   ]
  },
  {
   "cell_type": "code",
   "execution_count": 3,
   "id": "wsFOzwD0u2cp",
   "metadata": {
    "colab": {
     "base_uri": "https://localhost:8080/",
     "height": 263
    },
    "id": "wsFOzwD0u2cp",
    "outputId": "8afcc2d9-231f-4dcf-f7a0-0d1b8e8b43ed"
   },
   "outputs": [
    {
     "name": "stderr",
     "output_type": "stream",
     "text": [
      "/tmp/ipykernel_79002/1600475455.py:4: ParserWarning: Falling back to the 'python' engine because the 'c' engine does not support regex separators (separators > 1 char and different from '\\s+' are interpreted as regex); you can avoid this warning by specifying engine='python'.\n",
      "  df_train = pd.read_csv(os.path.join(directory, filename), delimiter=\":::\", encoding='utf-8', header=None)\n"
     ]
    },
    {
     "data": {
      "text/html": [
       "<div>\n",
       "<style scoped>\n",
       "    .dataframe tbody tr th:only-of-type {\n",
       "        vertical-align: middle;\n",
       "    }\n",
       "\n",
       "    .dataframe tbody tr th {\n",
       "        vertical-align: top;\n",
       "    }\n",
       "\n",
       "    .dataframe thead th {\n",
       "        text-align: right;\n",
       "    }\n",
       "</style>\n",
       "<table border=\"1\" class=\"dataframe\">\n",
       "  <thead>\n",
       "    <tr style=\"text-align: right;\">\n",
       "      <th></th>\n",
       "      <th>title</th>\n",
       "      <th>genre</th>\n",
       "      <th>description</th>\n",
       "    </tr>\n",
       "  </thead>\n",
       "  <tbody>\n",
       "    <tr>\n",
       "      <th>0</th>\n",
       "      <td>Oscar et la dame rose (2009)</td>\n",
       "      <td>drama</td>\n",
       "      <td>Listening in to a conversation between his do...</td>\n",
       "    </tr>\n",
       "    <tr>\n",
       "      <th>1</th>\n",
       "      <td>Cupid (1997)</td>\n",
       "      <td>thriller</td>\n",
       "      <td>A brother and sister with a past incestuous r...</td>\n",
       "    </tr>\n",
       "    <tr>\n",
       "      <th>2</th>\n",
       "      <td>Young, Wild and Wonderful (1980)</td>\n",
       "      <td>adult</td>\n",
       "      <td>As the bus empties the students for their fie...</td>\n",
       "    </tr>\n",
       "    <tr>\n",
       "      <th>3</th>\n",
       "      <td>The Secret Sin (1915)</td>\n",
       "      <td>drama</td>\n",
       "      <td>To help their unemployed father make ends mee...</td>\n",
       "    </tr>\n",
       "    <tr>\n",
       "      <th>4</th>\n",
       "      <td>The Unrecovered (2007)</td>\n",
       "      <td>drama</td>\n",
       "      <td>The film's title refers not only to the un-re...</td>\n",
       "    </tr>\n",
       "  </tbody>\n",
       "</table>\n",
       "</div>"
      ],
      "text/plain": [
       "                                title     genre  \\\n",
       "0       Oscar et la dame rose (2009)      drama   \n",
       "1                       Cupid (1997)   thriller   \n",
       "2   Young, Wild and Wonderful (1980)      adult   \n",
       "3              The Secret Sin (1915)      drama   \n",
       "4             The Unrecovered (2007)      drama   \n",
       "\n",
       "                                         description  \n",
       "0   Listening in to a conversation between his do...  \n",
       "1   A brother and sister with a past incestuous r...  \n",
       "2   As the bus empties the students for their fie...  \n",
       "3   To help their unemployed father make ends mee...  \n",
       "4   The film's title refers not only to the un-re...  "
      ]
     },
     "execution_count": 3,
     "metadata": {},
     "output_type": "execute_result"
    }
   ],
   "source": [
    "# Load train data\n",
    "filename =\"train_data.txt\"\n",
    "\n",
    "df_train = pd.read_csv(os.path.join(directory, filename), delimiter=\":::\", encoding='utf-8', header=None)\n",
    "\n",
    "df_train.drop(columns=df_train.columns[0], axis=1, inplace=True)\n",
    "df_train.columns =['title', 'genre', 'description']\n",
    "df_train['genre']=df_train['genre'].apply(lambda x: x.strip())\n",
    "\n",
    "df_train.head()"
   ]
  },
  {
   "cell_type": "code",
   "execution_count": 4,
   "id": "d8c33524",
   "metadata": {
    "colab": {
     "base_uri": "https://localhost:8080/",
     "height": 263
    },
    "id": "d8c33524",
    "outputId": "9f6bdf2a-93c2-45d6-c5a4-80e4689b1bf9"
   },
   "outputs": [
    {
     "name": "stderr",
     "output_type": "stream",
     "text": [
      "/tmp/ipykernel_79002/3900128847.py:3: ParserWarning: Falling back to the 'python' engine because the 'c' engine does not support regex separators (separators > 1 char and different from '\\s+' are interpreted as regex); you can avoid this warning by specifying engine='python'.\n",
      "  df_test = pd.read_csv(os.path.join(directory, filename), delimiter=\":::\", encoding='utf-8', header=None)\n"
     ]
    },
    {
     "data": {
      "text/html": [
       "<div>\n",
       "<style scoped>\n",
       "    .dataframe tbody tr th:only-of-type {\n",
       "        vertical-align: middle;\n",
       "    }\n",
       "\n",
       "    .dataframe tbody tr th {\n",
       "        vertical-align: top;\n",
       "    }\n",
       "\n",
       "    .dataframe thead th {\n",
       "        text-align: right;\n",
       "    }\n",
       "</style>\n",
       "<table border=\"1\" class=\"dataframe\">\n",
       "  <thead>\n",
       "    <tr style=\"text-align: right;\">\n",
       "      <th></th>\n",
       "      <th>title</th>\n",
       "      <th>genre</th>\n",
       "      <th>description</th>\n",
       "    </tr>\n",
       "  </thead>\n",
       "  <tbody>\n",
       "    <tr>\n",
       "      <th>0</th>\n",
       "      <td>Edgar's Lunch (1998)</td>\n",
       "      <td>thriller</td>\n",
       "      <td>L.R. Brane loves his life - his car, his apar...</td>\n",
       "    </tr>\n",
       "    <tr>\n",
       "      <th>1</th>\n",
       "      <td>La guerra de papá (1977)</td>\n",
       "      <td>comedy</td>\n",
       "      <td>Spain, March 1964: Quico is a very naughty ch...</td>\n",
       "    </tr>\n",
       "    <tr>\n",
       "      <th>2</th>\n",
       "      <td>Off the Beaten Track (2010)</td>\n",
       "      <td>documentary</td>\n",
       "      <td>One year in the life of Albin and his family ...</td>\n",
       "    </tr>\n",
       "    <tr>\n",
       "      <th>3</th>\n",
       "      <td>Meu Amigo Hindu (2015)</td>\n",
       "      <td>drama</td>\n",
       "      <td>His father has died, he hasn't spoken with hi...</td>\n",
       "    </tr>\n",
       "    <tr>\n",
       "      <th>4</th>\n",
       "      <td>Er nu zhai (1955)</td>\n",
       "      <td>drama</td>\n",
       "      <td>Before he was known internationally as a mart...</td>\n",
       "    </tr>\n",
       "  </tbody>\n",
       "</table>\n",
       "</div>"
      ],
      "text/plain": [
       "                           title        genre  \\\n",
       "0          Edgar's Lunch (1998)      thriller   \n",
       "1      La guerra de papá (1977)        comedy   \n",
       "2   Off the Beaten Track (2010)   documentary   \n",
       "3        Meu Amigo Hindu (2015)         drama   \n",
       "4             Er nu zhai (1955)         drama   \n",
       "\n",
       "                                         description  \n",
       "0   L.R. Brane loves his life - his car, his apar...  \n",
       "1   Spain, March 1964: Quico is a very naughty ch...  \n",
       "2   One year in the life of Albin and his family ...  \n",
       "3   His father has died, he hasn't spoken with hi...  \n",
       "4   Before he was known internationally as a mart...  "
      ]
     },
     "execution_count": 4,
     "metadata": {},
     "output_type": "execute_result"
    }
   ],
   "source": [
    "# Load test data\n",
    "filename = \"test_data_solution.txt\"\n",
    "df_test = pd.read_csv(os.path.join(directory, filename), delimiter=\":::\", encoding='utf-8', header=None)\n",
    "\n",
    "df_test.drop(columns=df_test.columns[0], axis=1, inplace=True)\n",
    "df_test.columns =['title', 'genre', 'description']\n",
    "df_test['genre']=df_test['genre'].apply(lambda x: x.strip())\n",
    "\n",
    "df_test.head()"
   ]
  },
  {
   "cell_type": "code",
   "execution_count": 5,
   "id": "nh6iLk_5v-Hp",
   "metadata": {
    "colab": {
     "base_uri": "https://localhost:8080/",
     "height": 338
    },
    "id": "nh6iLk_5v-Hp",
    "outputId": "e5ab4c99-6129-417a-a6e5-b19367080f7e"
   },
   "outputs": [
    {
     "data": {
      "image/png": "[encoded data removed]",
      "text/plain": [
       "<Figure size 640x480 with 1 Axes>"
      ]
     },
     "metadata": {},
     "output_type": "display_data"
    }
   ],
   "source": [
    "df_train.genre.value_counts().plot(kind='bar')\n",
    "plt.title(\"Filmes per category\")\n",
    "plt.show()"
   ]
  },
  {
   "cell_type": "code",
   "execution_count": 6,
   "id": "f58f5443",
   "metadata": {
    "id": "f58f5443"
   },
   "outputs": [],
   "source": [
    "# Only keep some columns\n",
    "list_labels = [\"drama\", \"comedy\", \"horror\", \"thriller\", \"action\", \"western\", \"sci-fi\"]\n",
    "\n",
    "df_train = df_train[df_train[\"genre\"].isin(list_labels)]\n",
    "df_test = df_test[df_test[\"genre\"].isin(list_labels)]"
   ]
  },
  {
   "cell_type": "code",
   "execution_count": 7,
   "id": "oLJvaBr-xIS6",
   "metadata": {
    "colab": {
     "base_uri": "https://localhost:8080/",
     "height": 311
    },
    "id": "oLJvaBr-xIS6",
    "outputId": "5725b757-4898-4982-d294-cea553a8b9ad"
   },
   "outputs": [
    {
     "data": {
      "image/png": "[encoded data removed]",
      "text/plain": [
       "<Figure size 640x480 with 1 Axes>"
      ]
     },
     "metadata": {},
     "output_type": "display_data"
    }
   ],
   "source": [
    "df_train.genre.value_counts().plot(kind='bar')\n",
    "plt.title(\"Filmes per category\")\n",
    "plt.show()"
   ]
  },
  {
   "cell_type": "markdown",
   "id": "-HRXfdNLx4IP",
   "metadata": {
    "id": "-HRXfdNLx4IP"
   },
   "source": [
    "# Preprocessing"
   ]
  },
  {
   "cell_type": "markdown",
   "id": "314f2a64",
   "metadata": {
    "id": "314f2a64"
   },
   "source": [
    "## Remove Stopwords"
   ]
  },
  {
   "cell_type": "code",
   "execution_count": 8,
   "id": "gM22oEXKyB6n",
   "metadata": {
    "id": "gM22oEXKyB6n"
   },
   "outputs": [],
   "source": [
    "def remove_stopwords(text, stopwords):\n",
    "    words = text.split()\n",
    "    clean_words = [word for word in words if word.lower() not in stop_words]\n",
    "    return ' '.join(clean_words)"
   ]
  },
  {
   "cell_type": "code",
   "execution_count": 9,
   "id": "9cbb4392",
   "metadata": {
    "id": "9cbb4392"
   },
   "outputs": [],
   "source": [
    "# Defining stopwords\n",
    "# using predefined english stopwords\n",
    "stop_words = set(stopwords.words('english'))\n",
    "\n",
    "# including additional stopwords\n",
    "my_stopwords = ['lol', 'people', 'expand',\n",
    "                'really', 'deal','u', 'much', 'get', 'good', 'act', 'put', 'man', 'a', 'think', 'one',\n",
    "                'say', 'like', 'go', 'do', 'head', 'yet', 'wall', 'guess', 'keep', 'oh', 'north', 'oil',\n",
    "                'prize', 'involved', 'might', 'medium''among', 'might', 'make', 'do', 'may', 'year', 'give',\n",
    "                'also', 'law', 'etc', 'wait', 'prove', 'mean', 'thing', 'rest', 'middle','rnr','u','fuck','make',\n",
    "                'would', 'know', 'lot', 'see', 'president', 'done', 'even', 'many', 'ever', 'want', 'made',\n",
    "                'got', 'going', 'need', 'view', 'something', 'lasting', 'still', 'way', 'every', 'anyone', \n",
    "                'first', 'look', 'medium', 'time', 'since', 'life', 'probably', 'anything', 'come', \n",
    "                'long', 'could', 'anything', 'donald', 'back', 'sure', 'last', 'nothing', 'rate', 'well',\n",
    "                'left', 'le', 'someone', 'example', 'seen', 'day', 'said', 'world', 'making', 'far', 'care',\n",
    "                'shit','america','issue','new', 'actually','never','whole','exposed','imapct','side','single']\n",
    "stop_words.update(my_stopwords)"
   ]
  },
  {
   "cell_type": "code",
   "execution_count": 10,
   "id": "Rm2qPmqJ0BPD",
   "metadata": {
    "id": "Rm2qPmqJ0BPD"
   },
   "outputs": [],
   "source": [
    "df_train['description'] = df_train['description'].apply(remove_stopwords, args=(stop_words,))\n",
    "df_test['description'] = df_test['description'].apply(remove_stopwords, args=(stop_words,))"
   ]
  },
  {
   "cell_type": "markdown",
   "id": "0fda95e9",
   "metadata": {
    "id": "0fda95e9"
   },
   "source": [
    "### Lemmatize"
   ]
  },
  {
   "cell_type": "code",
   "execution_count": 11,
   "id": "559ace0b",
   "metadata": {
    "colab": {
     "base_uri": "https://localhost:8080/",
     "height": 206
    },
    "id": "559ace0b",
    "outputId": "933926e0-98f8-4edb-b77c-6bdec81cd76d"
   },
   "outputs": [
    {
     "data": {
      "text/html": [
       "<div>\n",
       "<style scoped>\n",
       "    .dataframe tbody tr th:only-of-type {\n",
       "        vertical-align: middle;\n",
       "    }\n",
       "\n",
       "    .dataframe tbody tr th {\n",
       "        vertical-align: top;\n",
       "    }\n",
       "\n",
       "    .dataframe thead th {\n",
       "        text-align: right;\n",
       "    }\n",
       "</style>\n",
       "<table border=\"1\" class=\"dataframe\">\n",
       "  <thead>\n",
       "    <tr style=\"text-align: right;\">\n",
       "      <th></th>\n",
       "      <th>title</th>\n",
       "      <th>genre</th>\n",
       "      <th>description</th>\n",
       "    </tr>\n",
       "  </thead>\n",
       "  <tbody>\n",
       "    <tr>\n",
       "      <th>0</th>\n",
       "      <td>Oscar et la dame rose (2009)</td>\n",
       "      <td>drama</td>\n",
       "      <td>Listening conversation doctor parents, 10-year...</td>\n",
       "    </tr>\n",
       "    <tr>\n",
       "      <th>1</th>\n",
       "      <td>Cupid (1997)</td>\n",
       "      <td>thriller</td>\n",
       "      <td>brother sister past incestuous relationship cu...</td>\n",
       "    </tr>\n",
       "    <tr>\n",
       "      <th>3</th>\n",
       "      <td>The Secret Sin (1915)</td>\n",
       "      <td>drama</td>\n",
       "      <td>help unemployed father ends meet, Edith twin s...</td>\n",
       "    </tr>\n",
       "    <tr>\n",
       "      <th>4</th>\n",
       "      <td>The Unrecovered (2007)</td>\n",
       "      <td>drama</td>\n",
       "      <td>film's title refers un-recovered bodies ground...</td>\n",
       "    </tr>\n",
       "    <tr>\n",
       "      <th>6</th>\n",
       "      <td>\"Pink Slip\" (2009)</td>\n",
       "      <td>comedy</td>\n",
       "      <td>tough economic times Max Joey run ideas until,...</td>\n",
       "    </tr>\n",
       "  </tbody>\n",
       "</table>\n",
       "</div>"
      ],
      "text/plain": [
       "                            title     genre  \\\n",
       "0   Oscar et la dame rose (2009)      drama   \n",
       "1                   Cupid (1997)   thriller   \n",
       "3          The Secret Sin (1915)      drama   \n",
       "4         The Unrecovered (2007)      drama   \n",
       "6             \"Pink Slip\" (2009)     comedy   \n",
       "\n",
       "                                         description  \n",
       "0  Listening conversation doctor parents, 10-year...  \n",
       "1  brother sister past incestuous relationship cu...  \n",
       "3  help unemployed father ends meet, Edith twin s...  \n",
       "4  film's title refers un-recovered bodies ground...  \n",
       "6  tough economic times Max Joey run ideas until,...  "
      ]
     },
     "execution_count": 11,
     "metadata": {},
     "output_type": "execute_result"
    }
   ],
   "source": [
    "# Tokenize: Split the sentence into words\n",
    "docs = df_train['description']\n",
    "\n",
    "lemmatizer = WordNetLemmatizer()\n",
    "docs = [[lemmatizer.lemmatize(token) for token in doc] for doc in docs]\n",
    "\n",
    "# Lemmatize list of words and join\n",
    "lemmatized_output = [''.join([lemmatizer.lemmatize(w) for w in doc]) for doc in docs]\n",
    "df_train['description'] = lemmatized_output\n",
    "df_train.head()"
   ]
  },
  {
   "cell_type": "code",
   "execution_count": 12,
   "id": "979b414c",
   "metadata": {},
   "outputs": [
    {
     "data": {
      "text/html": [
       "<div>\n",
       "<style scoped>\n",
       "    .dataframe tbody tr th:only-of-type {\n",
       "        vertical-align: middle;\n",
       "    }\n",
       "\n",
       "    .dataframe tbody tr th {\n",
       "        vertical-align: top;\n",
       "    }\n",
       "\n",
       "    .dataframe thead th {\n",
       "        text-align: right;\n",
       "    }\n",
       "</style>\n",
       "<table border=\"1\" class=\"dataframe\">\n",
       "  <thead>\n",
       "    <tr style=\"text-align: right;\">\n",
       "      <th></th>\n",
       "      <th>title</th>\n",
       "      <th>genre</th>\n",
       "      <th>description</th>\n",
       "    </tr>\n",
       "  </thead>\n",
       "  <tbody>\n",
       "    <tr>\n",
       "      <th>0</th>\n",
       "      <td>Edgar's Lunch (1998)</td>\n",
       "      <td>thriller</td>\n",
       "      <td>L.R. Brane loves - car, apartment, job, especi...</td>\n",
       "    </tr>\n",
       "    <tr>\n",
       "      <th>1</th>\n",
       "      <td>La guerra de papá (1977)</td>\n",
       "      <td>comedy</td>\n",
       "      <td>Spain, March 1964: Quico naughty child three b...</td>\n",
       "    </tr>\n",
       "    <tr>\n",
       "      <th>3</th>\n",
       "      <td>Meu Amigo Hindu (2015)</td>\n",
       "      <td>drama</td>\n",
       "      <td>father died, spoken brother 10 years serious c...</td>\n",
       "    </tr>\n",
       "    <tr>\n",
       "      <th>4</th>\n",
       "      <td>Er nu zhai (1955)</td>\n",
       "      <td>drama</td>\n",
       "      <td>known internationally martial arts superstar, ...</td>\n",
       "    </tr>\n",
       "    <tr>\n",
       "      <th>5</th>\n",
       "      <td>Riddle Room (2016)</td>\n",
       "      <td>horror</td>\n",
       "      <td>Emily Burns held captive room idea there. Dete...</td>\n",
       "    </tr>\n",
       "  </tbody>\n",
       "</table>\n",
       "</div>"
      ],
      "text/plain": [
       "                        title     genre  \\\n",
       "0       Edgar's Lunch (1998)   thriller   \n",
       "1   La guerra de papá (1977)     comedy   \n",
       "3     Meu Amigo Hindu (2015)      drama   \n",
       "4          Er nu zhai (1955)      drama   \n",
       "5         Riddle Room (2016)     horror   \n",
       "\n",
       "                                         description  \n",
       "0  L.R. Brane loves - car, apartment, job, especi...  \n",
       "1  Spain, March 1964: Quico naughty child three b...  \n",
       "3  father died, spoken brother 10 years serious c...  \n",
       "4  known internationally martial arts superstar, ...  \n",
       "5  Emily Burns held captive room idea there. Dete...  "
      ]
     },
     "execution_count": 12,
     "metadata": {},
     "output_type": "execute_result"
    }
   ],
   "source": [
    "# Tokenize: Split the sentence into words\n",
    "docs = df_test['description']\n",
    "\n",
    "lemmatizer = WordNetLemmatizer()\n",
    "docs = [[lemmatizer.lemmatize(token) for token in doc] for doc in docs]\n",
    "\n",
    "# Lemmatize list of words and join\n",
    "lemmatized_output = [''.join([lemmatizer.lemmatize(w) for w in doc]) for doc in docs]\n",
    "df_test['description'] = lemmatized_output\n",
    "df_test.head()"
   ]
  },
  {
   "cell_type": "markdown",
   "id": "f2261344",
   "metadata": {
    "id": "f2261344"
   },
   "source": [
    "# Baseline"
   ]
  },
  {
   "cell_type": "markdown",
   "id": "q35ZKsHI4ocb",
   "metadata": {
    "id": "q35ZKsHI4ocb"
   },
   "source": [
    "## Random assignment"
   ]
  },
  {
   "cell_type": "markdown",
   "id": "XevdyuyV5hh0",
   "metadata": {
    "id": "XevdyuyV5hh0"
   },
   "source": [
    "Choose randomly among the genres and use the share of the genres in the training data set as probability that a specific genre is assigned"
   ]
  },
  {
   "cell_type": "code",
   "execution_count": 59,
   "id": "8dd4xRNb2g3c",
   "metadata": {
    "id": "8dd4xRNb2g3c"
   },
   "outputs": [],
   "source": [
    "genre_priors = df_train.genre.value_counts() / df_train.shape[0]\n",
    "genre_priors = pd.DataFrame(data={\"genre\":genre_priors.index, \"probability\": genre_priors.values})\n",
    "genre_priors = genre_priors.sort_values(\"genre\")"
   ]
  },
  {
   "cell_type": "code",
   "execution_count": 67,
   "id": "EvHcncJL2iL1",
   "metadata": {
    "id": "EvHcncJL2iL1"
   },
   "outputs": [],
   "source": [
    "# Predict genres for test data\n",
    "prior_predictions = np.random.choice(genre_priors.genre.values, size = df_test.shape[0], p = genre_priors.probability.values)"
   ]
  },
  {
   "cell_type": "code",
   "execution_count": 68,
   "id": "2NixmsPz5JUG",
   "metadata": {
    "colab": {
     "base_uri": "https://localhost:8080/"
    },
    "id": "2NixmsPz5JUG",
    "outputId": "ec0b1ea4-08fb-4f2c-ad9d-64739d73f688"
   },
   "outputs": [
    {
     "name": "stdout",
     "output_type": "stream",
     "text": [
      "F1:  0.323258453173051\n",
      "Recall:  0.3229421060192501\n"
     ]
    }
   ],
   "source": [
    "# Evaluate prediction performance\n",
    "true_labels = df_test[\"genre\"]\n",
    "f1 = f1_score(true_labels, prior_predictions, average=\"weighted\")\n",
    "recall = recall_score(true_labels, prior_predictions, average=\"weighted\")\n",
    "\n",
    "print(\"F1: \",f1)\n",
    "print(\"Recall: \",recall)"
   ]
  },
  {
   "cell_type": "markdown",
   "id": "X9a_0ugM4sj8",
   "metadata": {
    "id": "X9a_0ugM4sj8"
   },
   "source": [
    "## TF-IDF based dictionary"
   ]
  },
  {
   "cell_type": "code",
   "execution_count": 109,
   "id": "f4iSeKN64xJZ",
   "metadata": {
    "id": "f4iSeKN64xJZ"
   },
   "outputs": [],
   "source": [
    "def create_important_dict(df, no_words):\n",
    "  \"\"\"Creates dictionary with the no_words number of words that have the\n",
    "  highest TF-IDF score per topic for the provided data \n",
    "\n",
    "  Parameters\n",
    "  ----------\n",
    "  data : pandas series\n",
    "      A Series containing text data with one row per topic\n",
    "  no_words : int\n",
    "      The number of words that will be included in the dictionary for each topic\n",
    "\n",
    "  Returns\n",
    "  -------\n",
    "  important_dict: dict\n",
    "      dictionary with the words that have the highest tf-idf score per topic\n",
    "  \"\"\"\n",
    "\n",
    "  data = df.description\n",
    "  genres = df.genre\n",
    "\n",
    "  # create TF-IDF DataFrame\n",
    "  vectorizer = TfidfVectorizer(max_df=0.9)\n",
    "  X = vectorizer.fit_transform(data)\n",
    "  tokens = vectorizer.get_feature_names_out()\n",
    "  X = X.toarray()\n",
    "  X = pd.DataFrame(X, columns=tokens)\n",
    "  X = X.T\n",
    "\n",
    "  X.columns = genres\n",
    "  # create dictionary with most important words per topic\n",
    "  important_dict = {}\n",
    "  for col in X.columns:\n",
    "    most_important = X.sort_values(by=col, ascending=False).head(no_words).index\n",
    "    important_dict[col] = list(most_important)\n",
    "\n",
    "  return important_dict"
   ]
  },
  {
   "cell_type": "code",
   "execution_count": 115,
   "id": "oh7R27-NDEMp",
   "metadata": {
    "id": "oh7R27-NDEMp"
   },
   "outputs": [],
   "source": [
    "def tfidf_predictions(data, important_dict):\n",
    "  \"\"\"Predicts based on an dictionary which topic each text belongs to. \n",
    "\n",
    "  Parameters\n",
    "  ----------\n",
    "  data : pandas series\n",
    "      A Series containing text data\n",
    "  important_dict: dict\n",
    "      A dictionary with the words that are relevant for the classification\n",
    "\n",
    "  Returns\n",
    "  -------\n",
    "  prediction: list\n",
    "      contains a int value representing the topic predicted for each text \n",
    "  \"\"\"\n",
    "\n",
    "  # Initializing the list\n",
    "  predictions = []\n",
    "  i = 0\n",
    "  # Iterrating over the texts (rows)\n",
    "  for row in data:\n",
    "\n",
    "    # Splitting the text in words\n",
    "    words = row.split()\n",
    "\n",
    "    # Initializing a dictionary to count how many words associated with a topic occur in each text\n",
    "    count_dict = {}\n",
    "\n",
    "    # Itterating over the topics in the important_dict dictionary\n",
    "    for key in list(important_dict.keys()):\n",
    "      top_words = set(important_dict[key])\n",
    "      score = len(set(words) & top_words)\n",
    "      count_dict[key] = score\n",
    "\n",
    "    # Check if there is one topic with the largest number of occurences and make this the prediction    \n",
    "    if sum(value == max(count_dict.values()) for value in count_dict.values()) == 1 :\n",
    "      i += 1\n",
    "      predictions.append(list(count_dict.keys())[list(count_dict.values()).index(max(count_dict.values()))])\n",
    "\n",
    "    # Otherwise, make the prediction random based on the distribution of topics within the original data  \n",
    "    else:\n",
    "      predictions.append(np.random.choice(genre_priors.genre.values, size = 1, p = genre_priors.probability.values)[0])\n",
    "\n",
    "  print(i/len(predictions))\n",
    "  return list(predictions)"
   ]
  },
  {
   "cell_type": "code",
   "execution_count": 116,
   "id": "DWohGbfV_y3P",
   "metadata": {
    "id": "DWohGbfV_y3P"
   },
   "outputs": [],
   "source": [
    "# Create a dictionary with the most important words per genre \n",
    "genre_descriptions = df_train.groupby(['genre'])['description'].apply(','.join).reset_index()\n",
    "important_dict = create_important_dict(genre_descriptions, 50)"
   ]
  },
  {
   "cell_type": "code",
   "execution_count": 117,
   "id": "y8dJIxAV59Q_",
   "metadata": {
    "colab": {
     "base_uri": "https://localhost:8080/"
    },
    "id": "y8dJIxAV59Q_",
    "outputId": "bea9ab89-19ce-489a-bcc7-fdf80c539eb6"
   },
   "outputs": [
    {
     "name": "stdout",
     "output_type": "stream",
     "text": [
      "0.3025068237322224\n"
     ]
    }
   ],
   "source": [
    "tfidf_predictions = tfidf_predictions(df_test[\"description\"], important_dict)"
   ]
  },
  {
   "cell_type": "code",
   "execution_count": 118,
   "id": "GDJJxyGaBeSC",
   "metadata": {
    "colab": {
     "base_uri": "https://localhost:8080/"
    },
    "id": "GDJJxyGaBeSC",
    "outputId": "afebfa38-2011-4ff6-d23e-69c078239717"
   },
   "outputs": [
    {
     "name": "stdout",
     "output_type": "stream",
     "text": [
      "F1:  0.41022630322282355\n",
      "Recall:  0.4038931188047694\n"
     ]
    }
   ],
   "source": [
    "# Evaluate prediction performance\n",
    "true_labels = df_test[\"genre\"]\n",
    "f1 = f1_score(true_labels, tfidf_predictions, average=\"weighted\")\n",
    "recall = recall_score(true_labels, tfidf_predictions, average=\"weighted\")\n",
    "\n",
    "print(\"F1: \",f1)\n",
    "print(\"Recall: \",recall)"
   ]
  },
  {
   "cell_type": "markdown",
   "id": "3oIwp1Wu4iS9",
   "metadata": {
    "id": "3oIwp1Wu4iS9"
   },
   "source": [
    "## Baseline David"
   ]
  },
  {
   "cell_type": "code",
   "execution_count": 119,
   "id": "vwsM58YY4gU2",
   "metadata": {
    "id": "vwsM58YY4gU2"
   },
   "outputs": [],
   "source": [
    "terms_by_genre = {}\n",
    "\n",
    "# Iterrate over genres\n",
    "for genre in df_train['genre'].unique():\n",
    "\n",
    "    # Join descriptions of all movies for each genre\n",
    "    genre_df = df_train[df_train['genre'] == genre]\n",
    "    all_descriptions = ' '.join(genre_df['description'])\n",
    "    all_words = all_descriptions.split()\n",
    "    word_counts = Counter(all_words)\n",
    "    sorted_words = sorted(word_counts.items(), key=lambda x: x[1], reverse=True)\n",
    "    top_words = [word for word, count in sorted_words[:50]]\n",
    "    terms_by_genre[genre] = top_words"
   ]
  },
  {
   "cell_type": "code",
   "execution_count": 139,
   "id": "225f39b3",
   "metadata": {
    "id": "225f39b3"
   },
   "outputs": [],
   "source": [
    "def predict_genre(description):\n",
    "    words = description.split()\n",
    "    genre_scores = {}\n",
    "    for genre in terms_by_genre:\n",
    "        top_words = set(terms_by_genre[genre])\n",
    "        score = len(set(words) & top_words)\n",
    "        genre_scores[genre] = score\n",
    "    predicted_genre = max(genre_scores, key=genre_scores.get)\n",
    "    return predicted_genre"
   ]
  },
  {
   "cell_type": "code",
   "execution_count": 140,
   "id": "7X59USNQG3kc",
   "metadata": {
    "id": "7X59USNQG3kc"
   },
   "outputs": [],
   "source": [
    "predict_genre = df_test[\"description\"][:100].apply(predict_genre)"
   ]
  },
  {
   "cell_type": "code",
   "execution_count": 122,
   "id": "b051381e",
   "metadata": {
    "colab": {
     "base_uri": "https://localhost:8080/"
    },
    "id": "b051381e",
    "outputId": "58093090-4bc2-44bb-cf26-e5e87e2316bf"
   },
   "outputs": [
    {
     "name": "stdout",
     "output_type": "stream",
     "text": [
      "F1:  0.4604663751146275\n",
      "Recall:  0.4458411147823589\n"
     ]
    }
   ],
   "source": [
    "predicted_genres = df_test[\"description\"].apply(predict_genre)\n",
    "\n",
    "true_labels = df_test[\"genre\"]\n",
    "f1 = f1_score(true_labels, predicted_genres, average=\"weighted\")\n",
    "recall = recall_score(true_labels, predicted_genres, average=\"weighted\")\n",
    "\n",
    "print(\"F1: \",f1)\n",
    "\n",
    "print(\"Recall: \",recall)"
   ]
  },
  {
   "cell_type": "markdown",
   "id": "f2536653",
   "metadata": {
    "id": "f2536653"
   },
   "source": [
    "# GRU Network"
   ]
  },
  {
   "cell_type": "code",
   "execution_count": 14,
   "id": "707c29bc",
   "metadata": {
    "id": "707c29bc"
   },
   "outputs": [],
   "source": [
    "# input and target columns\n",
    "X_train = df_train[\"description\"].values\n",
    "y_train = pd.get_dummies(df_train[\"genre\"]).values\n",
    "\n",
    "X_test = df_test[\"description\"].values\n",
    "y_test = pd.get_dummies(df_test[\"genre\"]).values\n",
    "\n",
    "# find the maximum length of the descriptions\n",
    "maxlen = max(len(description) for description in X_train)\n",
    "\n",
    "maxlen = 1200"
   ]
  },
  {
   "cell_type": "code",
   "execution_count": 15,
   "id": "aa3c86fd",
   "metadata": {
    "id": "aa3c86fd"
   },
   "outputs": [],
   "source": [
    "# tokenize the input text\n",
    "tokenizer = Tokenizer(num_words=10000)\n",
    "tokenizer.fit_on_texts(X_train)\n",
    "X_train = tokenizer.texts_to_sequences(X_train)\n",
    "X_train = pad_sequences(X_train, maxlen=maxlen)\n",
    "X_test = tokenizer.texts_to_sequences(X_test)\n",
    "X_test = pad_sequences(X_test, maxlen=maxlen)"
   ]
  },
  {
   "cell_type": "code",
   "execution_count": 17,
   "id": "2230c1d2",
   "metadata": {
    "colab": {
     "base_uri": "https://localhost:8080/",
     "height": 399
    },
    "id": "2230c1d2",
    "outputId": "9c080479-55d1-48d4-b01e-58fab844e017"
   },
   "outputs": [
    {
     "name": "stderr",
     "output_type": "stream",
     "text": [
      "2023-03-30 15:12:25.876117: I tensorflow/compiler/xla/stream_executor/cuda/cuda_gpu_executor.cc:981] successful NUMA node read from SysFS had negative value (-1), but there must be at least one NUMA node, so returning NUMA node zero\n",
      "2023-03-30 15:12:25.876430: W tensorflow/compiler/xla/stream_executor/platform/default/dso_loader.cc:64] Could not load dynamic library 'libcudart.so.11.0'; dlerror: libcudart.so.11.0: cannot open shared object file: No such file or directory; LD_LIBRARY_PATH: :/opt/gurobi952/linux64/lib\n",
      "2023-03-30 15:12:25.876514: W tensorflow/compiler/xla/stream_executor/platform/default/dso_loader.cc:64] Could not load dynamic library 'libcublas.so.11'; dlerror: libcublas.so.11: cannot open shared object file: No such file or directory; LD_LIBRARY_PATH: :/opt/gurobi952/linux64/lib\n",
      "2023-03-30 15:12:25.876574: W tensorflow/compiler/xla/stream_executor/platform/default/dso_loader.cc:64] Could not load dynamic library 'libcublasLt.so.11'; dlerror: libcublasLt.so.11: cannot open shared object file: No such file or directory; LD_LIBRARY_PATH: :/opt/gurobi952/linux64/lib\n",
      "2023-03-30 15:12:25.876630: W tensorflow/compiler/xla/stream_executor/platform/default/dso_loader.cc:64] Could not load dynamic library 'libcufft.so.10'; dlerror: libcufft.so.10: cannot open shared object file: No such file or directory; LD_LIBRARY_PATH: :/opt/gurobi952/linux64/lib\n",
      "2023-03-30 15:12:25.881073: W tensorflow/compiler/xla/stream_executor/platform/default/dso_loader.cc:64] Could not load dynamic library 'libcusparse.so.11'; dlerror: libcusparse.so.11: cannot open shared object file: No such file or directory; LD_LIBRARY_PATH: :/opt/gurobi952/linux64/lib\n",
      "2023-03-30 15:12:25.881128: W tensorflow/core/common_runtime/gpu/gpu_device.cc:1934] Cannot dlopen some GPU libraries. Please make sure the missing libraries mentioned above are installed properly if you would like to use GPU. Follow the guide at https://www.tensorflow.org/install/gpu for how to download and setup the required libraries for your platform.\n",
      "Skipping registering GPU devices...\n",
      "2023-03-30 15:12:25.881938: I tensorflow/core/platform/cpu_feature_guard.cc:193] This TensorFlow binary is optimized with oneAPI Deep Neural Network Library (oneDNN) to use the following CPU instructions in performance-critical operations:  AVX2 FMA\n",
      "To enable them in other operations, rebuild TensorFlow with the appropriate compiler flags.\n"
     ]
    },
    {
     "name": "stdout",
     "output_type": "stream",
     "text": [
      "Epoch 1/16\n",
      "697/697 [==============================] - 186s 264ms/step - loss: 1.2063 - accuracy: 0.5501 - val_loss: 1.0299 - val_accuracy: 0.6253\n",
      "Epoch 2/16\n",
      "697/697 [==============================] - 183s 262ms/step - loss: 0.8393 - accuracy: 0.6989 - val_loss: 0.8994 - val_accuracy: 0.6858\n",
      "Epoch 3/16\n",
      "697/697 [==============================] - 181s 260ms/step - loss: 0.6679 - accuracy: 0.7646 - val_loss: 0.9220 - val_accuracy: 0.6745\n",
      "Epoch 4/16\n",
      "697/697 [==============================] - 189s 271ms/step - loss: 0.5198 - accuracy: 0.8198 - val_loss: 0.9914 - val_accuracy: 0.6643\n",
      "Epoch 5/16\n",
      "697/697 [==============================] - 184s 265ms/step - loss: 0.3779 - accuracy: 0.8729 - val_loss: 1.1068 - val_accuracy: 0.6680\n",
      "Epoch 6/16\n",
      "697/697 [==============================] - 185s 266ms/step - loss: 0.2693 - accuracy: 0.9110 - val_loss: 1.2695 - val_accuracy: 0.6612\n",
      "Epoch 7/16\n",
      "697/697 [==============================] - 189s 272ms/step - loss: 0.1824 - accuracy: 0.9425 - val_loss: 1.5173 - val_accuracy: 0.6492\n",
      "Epoch 8/16\n",
      "697/697 [==============================] - 183s 262ms/step - loss: 0.1185 - accuracy: 0.9642 - val_loss: 1.6684 - val_accuracy: 0.6461\n",
      "Epoch 9/16\n",
      "697/697 [==============================] - 182s 261ms/step - loss: 0.0877 - accuracy: 0.9732 - val_loss: 1.9090 - val_accuracy: 0.6490\n",
      "Epoch 10/16\n",
      "697/697 [==============================] - 186s 267ms/step - loss: 0.0719 - accuracy: 0.9778 - val_loss: 2.0109 - val_accuracy: 0.6470\n",
      "Epoch 11/16\n",
      "697/697 [==============================] - 185s 265ms/step - loss: 0.0644 - accuracy: 0.9801 - val_loss: 2.1564 - val_accuracy: 0.6411\n",
      "Epoch 12/16\n",
      "697/697 [==============================] - 186s 267ms/step - loss: 0.0417 - accuracy: 0.9877 - val_loss: 2.2455 - val_accuracy: 0.6456\n",
      "Epoch 13/16\n",
      "697/697 [==============================] - 187s 268ms/step - loss: 0.0357 - accuracy: 0.9895 - val_loss: 2.3964 - val_accuracy: 0.6321\n",
      "Epoch 14/16\n",
      "697/697 [==============================] - 185s 266ms/step - loss: 0.0355 - accuracy: 0.9892 - val_loss: 2.4104 - val_accuracy: 0.6436\n",
      "Epoch 15/16\n",
      "697/697 [==============================] - 183s 263ms/step - loss: 0.0326 - accuracy: 0.9901 - val_loss: 2.4572 - val_accuracy: 0.6492\n",
      "Epoch 16/16\n",
      "697/697 [==============================] - 187s 268ms/step - loss: 0.0274 - accuracy: 0.9922 - val_loss: 2.5844 - val_accuracy: 0.6393\n"
     ]
    },
    {
     "name": "stderr",
     "output_type": "stream",
     "text": [
      "WARNING:absl:Found untraced functions such as _update_step_xla, gru_cell_1_layer_call_fn, gru_cell_1_layer_call_and_return_conditional_losses, gru_cell_2_layer_call_fn, gru_cell_2_layer_call_and_return_conditional_losses while saving (showing 5 of 5). These functions will not be directly callable after loading.\n"
     ]
    },
    {
     "name": "stdout",
     "output_type": "stream",
     "text": [
      "INFO:tensorflow:Assets written to: bidir_gru.txt/assets\n"
     ]
    },
    {
     "name": "stderr",
     "output_type": "stream",
     "text": [
      "INFO:tensorflow:Assets written to: bidir_gru.txt/assets\n"
     ]
    }
   ],
   "source": [
    "if os.path.isfile('bidir_gru_model'):\n",
    "    \n",
    "    model = keras.models.load_model('bidir_gru_model')\n",
    "    \n",
    "else:\n",
    "        \n",
    "    # define the model architecture\n",
    "    model = Sequential()\n",
    "    model.add(Embedding(10000, 64, input_length=maxlen))\n",
    "    model.add(Bidirectional(GRU(64, dropout=0.12)))\n",
    "    model.add(Dense(7, activation=\"softmax\"))\n",
    "\n",
    "    # compile the model\n",
    "    model.compile(loss=\"categorical_crossentropy\",\n",
    "                  optimizer=\"adam\",\n",
    "                  metrics=[\"accuracy\"])\n",
    "    \n",
    "    # train the model\n",
    "    model.fit(X_train, y_train, epochs=16,batch_size=32, validation_split=0.2)\n",
    "    \n",
    "    model.save('bidir_gru_model')"
   ]
  },
  {
   "cell_type": "code",
   "execution_count": 18,
   "id": "5f704335",
   "metadata": {
    "id": "5f704335"
   },
   "outputs": [
    {
     "name": "stdout",
     "output_type": "stream",
     "text": [
      "871/871 [==============================] - 53s 60ms/step\n",
      "F1 score: 0.6333757062431329\n",
      "Recall score: 0.6356845280850453\n"
     ]
    }
   ],
   "source": [
    "# evaluate the model on the test set\n",
    "y_pred = model.predict(X_test)\n",
    "y_pred = y_pred.argmax(axis=1)\n",
    "y_true = y_test.argmax(axis=1)\n",
    "f1 = f1_score(y_true, y_pred, average=\"weighted\")\n",
    "recall = recall_score(y_true, y_pred, average=\"weighted\")\n",
    "print(\"F1 score:\", f1)\n",
    "print(\"Recall score:\", recall)"
   ]
  },
  {
   "cell_type": "code",
   "execution_count": null,
   "id": "36528881",
   "metadata": {
    "id": "36528881"
   },
   "outputs": [],
   "source": []
  },
  {
   "cell_type": "code",
   "execution_count": null,
   "id": "012d62b4",
   "metadata": {
    "id": "012d62b4"
   },
   "outputs": [],
   "source": []
  },
  {
   "cell_type": "code",
   "execution_count": null,
   "id": "a3120391",
   "metadata": {
    "id": "a3120391"
   },
   "outputs": [],
   "source": []
  },
  {
   "cell_type": "code",
   "execution_count": null,
   "id": "e99e2f4c",
   "metadata": {
    "id": "e99e2f4c"
   },
   "outputs": [],
   "source": []
  }
 ],
 "metadata": {
  "colab": {
   "provenance": []
  },
  "kernelspec": {
   "display_name": "Python 3 (ipykernel)",
   "language": "python",
   "name": "python3"
  },
  "language_info": {
   "codemirror_mode": {
    "name": "ipython",
    "version": 3
   },
   "file_extension": ".py",
   "mimetype": "text/x-python",
   "name": "python",
   "nbconvert_exporter": "python",
   "pygments_lexer": "ipython3",
   "version": "3.10.10"
  }
 },
 "nbformat": 4,
 "nbformat_minor": 5
}
